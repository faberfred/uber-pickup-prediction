{
 "cells": [
  {
   "cell_type": "markdown",
   "metadata": {},
   "source": [
    "## Uber demand forecasting for New York City\n",
    "This is a short example to demonstrate the different and subsequent steps of a machine learning project.<br>\n",
    "The goal of the project is to predict the demand of uber services in advance. "
   ]
  },
  {
   "cell_type": "markdown",
   "metadata": {},
   "source": [
    "### Setup"
   ]
  },
  {
   "cell_type": "markdown",
   "metadata": {},
   "source": [
    "Import necessary libraries."
   ]
  },
  {
   "cell_type": "code",
   "execution_count": 1,
   "metadata": {},
   "outputs": [],
   "source": [
    "import os\n",
    "import numpy as np\n",
    "import pandas as pd\n",
    "\n",
    "import json\n",
    "from area import area\n",
    "from matplotlib import path\n",
    "\n",
    "%matplotlib inline\n",
    "from matplotlib import pyplot as plt"
   ]
  },
  {
   "cell_type": "markdown",
   "metadata": {},
   "source": [
    "Set the number of CPUs to be used."
   ]
  },
  {
   "cell_type": "code",
   "execution_count": 2,
   "metadata": {},
   "outputs": [],
   "source": [
    "# value 1 -> use 1 CPU\n",
    "# value 2 -> use 2 CPUs ...\n",
    "# value -1 -> use all CPUs\n",
    "# value -2 -> use all but one CPU ...\n",
    "n_cpus = -2"
   ]
  },
  {
   "cell_type": "markdown",
   "metadata": {},
   "source": [
    "### Get the data\n",
    "Get the data for the Uber pickups for NYC for the time period April to September 2014 from the following sources:\n",
    "```txt\n",
    "https://raw.githubusercontent.com/fivethirtyeight/uber-tlc-foil-response/master/uber-trip-data/uber-raw-data-apr14.csv\n",
    "https://raw.githubusercontent.com/fivethirtyeight/uber-tlc-foil-response/master/uber-trip-data/uber-raw-data-may14.csv\n",
    "https://raw.githubusercontent.com/fivethirtyeight/uber-tlc-foil-response/master/uber-trip-data/uber-raw-data-jun14.csv\n",
    "https://raw.githubusercontent.com/fivethirtyeight/uber-tlc-foil-response/master/uber-trip-data/uber-raw-data-jul14.csv\n",
    "https://raw.githubusercontent.com/fivethirtyeight/uber-tlc-foil-response/master/uber-trip-data/uber-raw-data-aug14.csv\n",
    "https://raw.githubusercontent.com/fivethirtyeight/uber-tlc-foil-response/master/uber-trip-data/uber-raw-data-sep14.csv\n",
    "\n",
    "```"
   ]
  },
  {
   "cell_type": "code",
   "execution_count": 3,
   "metadata": {
    "scrolled": true
   },
   "outputs": [],
   "source": [
    "import urllib\n",
    "\n",
    "# source from where to download the data\n",
    "SOURCE_ROOT = 'https://raw.githubusercontent.com/fivethirtyeight/uber-tlc-foil-response/master/uber-trip-data/'\n",
    "\n",
    "# dictionary of the files to be downloaded\n",
    "month_url = {'april_data' :'uber-raw-data-apr14.csv', 'may_data' :'uber-raw-data-may14.csv',\n",
    "            'june_data' :'uber-raw-data-jun14.csv', 'july_data' :'uber-raw-data-jul14.csv',\n",
    "            'august_data' :'uber-raw-data-aug14.csv', 'september_data' :'uber-raw-data-sep14.csv'}\n",
    "\n",
    "# path to store the downloaded data\n",
    "SAVING_PATH = os.path.join('datasets')\n",
    "\n",
    "# function to fetch the data\n",
    "def download_and_save_data(data_source_url = SOURCE_ROOT, data_path = SAVING_PATH):\n",
    "    # make data directory if not existing\n",
    "    if not os.path.isdir(data_path):\n",
    "        os.makedirs(data_path)\n",
    "    \n",
    "        # get data csv for each month\n",
    "        for month in month_url:\n",
    "            data_url = ''\n",
    "            file_name = month_url[month]\n",
    "\n",
    "            # status print\n",
    "            print('download and save {}'.format(file_name))\n",
    "\n",
    "            # setup the data url\n",
    "            data_url = data_source_url + file_name\n",
    "\n",
    "            # specify the douwnload file\n",
    "            csv_path = os.path.join(data_path, file_name)\n",
    "\n",
    "            # receive the data from the web\n",
    "            urllib.request.urlretrieve(data_url, csv_path)\n",
    "\n",
    "# call the function to download and save the data\n",
    "download_and_save_data()"
   ]
  },
  {
   "cell_type": "markdown",
   "metadata": {},
   "source": [
    "Convert the `CSV` files into a pandas `DataFrame` files and store them in a dictionary."
   ]
  },
  {
   "cell_type": "code",
   "execution_count": 4,
   "metadata": {},
   "outputs": [],
   "source": [
    "def load_csv_data(csv_path):\n",
    "    return pd.read_csv(csv_path)"
   ]
  },
  {
   "cell_type": "code",
   "execution_count": 5,
   "metadata": {},
   "outputs": [],
   "source": [
    "data_dict = {}\n",
    "\n",
    "for month in month_url:\n",
    "    csv_filename = month_url[month]\n",
    "    csv_path = os.path.join(SAVING_PATH, csv_filename)\n",
    "    pd_filename = month\n",
    "    data_dict.update({pd_filename : load_csv_data(csv_path)})"
   ]
  },
  {
   "cell_type": "code",
   "execution_count": 6,
   "metadata": {},
   "outputs": [
    {
     "data": {
      "text/plain": [
       "dict_keys(['april_data', 'may_data', 'june_data', 'july_data', 'august_data', 'september_data'])"
      ]
     },
     "execution_count": 6,
     "metadata": {},
     "output_type": "execute_result"
    }
   ],
   "source": [
    "data_dict.keys()"
   ]
  },
  {
   "cell_type": "markdown",
   "metadata": {},
   "source": [
    "### Gain insights into the data"
   ]
  },
  {
   "cell_type": "code",
   "execution_count": 7,
   "metadata": {},
   "outputs": [],
   "source": [
    "x = data_dict['april_data']"
   ]
  },
  {
   "cell_type": "markdown",
   "metadata": {},
   "source": [
    "Print the first ten data rows."
   ]
  },
  {
   "cell_type": "code",
   "execution_count": 8,
   "metadata": {},
   "outputs": [
    {
     "data": {
      "text/html": [
       "<div>\n",
       "<style scoped>\n",
       "    .dataframe tbody tr th:only-of-type {\n",
       "        vertical-align: middle;\n",
       "    }\n",
       "\n",
       "    .dataframe tbody tr th {\n",
       "        vertical-align: top;\n",
       "    }\n",
       "\n",
       "    .dataframe thead th {\n",
       "        text-align: right;\n",
       "    }\n",
       "</style>\n",
       "<table border=\"1\" class=\"dataframe\">\n",
       "  <thead>\n",
       "    <tr style=\"text-align: right;\">\n",
       "      <th></th>\n",
       "      <th>Date/Time</th>\n",
       "      <th>Lat</th>\n",
       "      <th>Lon</th>\n",
       "      <th>Base</th>\n",
       "    </tr>\n",
       "  </thead>\n",
       "  <tbody>\n",
       "    <tr>\n",
       "      <th>0</th>\n",
       "      <td>4/1/2014 0:11:00</td>\n",
       "      <td>40.7690</td>\n",
       "      <td>-73.9549</td>\n",
       "      <td>B02512</td>\n",
       "    </tr>\n",
       "    <tr>\n",
       "      <th>1</th>\n",
       "      <td>4/1/2014 0:17:00</td>\n",
       "      <td>40.7267</td>\n",
       "      <td>-74.0345</td>\n",
       "      <td>B02512</td>\n",
       "    </tr>\n",
       "    <tr>\n",
       "      <th>2</th>\n",
       "      <td>4/1/2014 0:21:00</td>\n",
       "      <td>40.7316</td>\n",
       "      <td>-73.9873</td>\n",
       "      <td>B02512</td>\n",
       "    </tr>\n",
       "    <tr>\n",
       "      <th>3</th>\n",
       "      <td>4/1/2014 0:28:00</td>\n",
       "      <td>40.7588</td>\n",
       "      <td>-73.9776</td>\n",
       "      <td>B02512</td>\n",
       "    </tr>\n",
       "    <tr>\n",
       "      <th>4</th>\n",
       "      <td>4/1/2014 0:33:00</td>\n",
       "      <td>40.7594</td>\n",
       "      <td>-73.9722</td>\n",
       "      <td>B02512</td>\n",
       "    </tr>\n",
       "    <tr>\n",
       "      <th>5</th>\n",
       "      <td>4/1/2014 0:33:00</td>\n",
       "      <td>40.7383</td>\n",
       "      <td>-74.0403</td>\n",
       "      <td>B02512</td>\n",
       "    </tr>\n",
       "    <tr>\n",
       "      <th>6</th>\n",
       "      <td>4/1/2014 0:39:00</td>\n",
       "      <td>40.7223</td>\n",
       "      <td>-73.9887</td>\n",
       "      <td>B02512</td>\n",
       "    </tr>\n",
       "    <tr>\n",
       "      <th>7</th>\n",
       "      <td>4/1/2014 0:45:00</td>\n",
       "      <td>40.7620</td>\n",
       "      <td>-73.9790</td>\n",
       "      <td>B02512</td>\n",
       "    </tr>\n",
       "    <tr>\n",
       "      <th>8</th>\n",
       "      <td>4/1/2014 0:55:00</td>\n",
       "      <td>40.7524</td>\n",
       "      <td>-73.9960</td>\n",
       "      <td>B02512</td>\n",
       "    </tr>\n",
       "    <tr>\n",
       "      <th>9</th>\n",
       "      <td>4/1/2014 1:01:00</td>\n",
       "      <td>40.7575</td>\n",
       "      <td>-73.9846</td>\n",
       "      <td>B02512</td>\n",
       "    </tr>\n",
       "  </tbody>\n",
       "</table>\n",
       "</div>"
      ],
      "text/plain": [
       "          Date/Time      Lat      Lon    Base\n",
       "0  4/1/2014 0:11:00  40.7690 -73.9549  B02512\n",
       "1  4/1/2014 0:17:00  40.7267 -74.0345  B02512\n",
       "2  4/1/2014 0:21:00  40.7316 -73.9873  B02512\n",
       "3  4/1/2014 0:28:00  40.7588 -73.9776  B02512\n",
       "4  4/1/2014 0:33:00  40.7594 -73.9722  B02512\n",
       "5  4/1/2014 0:33:00  40.7383 -74.0403  B02512\n",
       "6  4/1/2014 0:39:00  40.7223 -73.9887  B02512\n",
       "7  4/1/2014 0:45:00  40.7620 -73.9790  B02512\n",
       "8  4/1/2014 0:55:00  40.7524 -73.9960  B02512\n",
       "9  4/1/2014 1:01:00  40.7575 -73.9846  B02512"
      ]
     },
     "execution_count": 8,
     "metadata": {},
     "output_type": "execute_result"
    }
   ],
   "source": [
    "x.head(10)"
   ]
  },
  {
   "cell_type": "markdown",
   "metadata": {},
   "source": [
    "The data consists of four columns with five parameters:\n",
    "\n",
    "`Data`: The date of the Uber pickup.\n",
    "<br>\n",
    "`Time`: The time of the Uber pickup.\n",
    "<br>\n",
    "`Lat`: The latitude of the Uber pickup.\n",
    "<br>\n",
    "`Lon`: The longitude of the Uber pickup.\n",
    "<br>\n",
    "`Base`: The TLC base company code affiliated with the Uber pickup."
   ]
  },
  {
   "cell_type": "markdown",
   "metadata": {},
   "source": [
    "Check the amount and completeness of the data point."
   ]
  },
  {
   "cell_type": "code",
   "execution_count": 9,
   "metadata": {},
   "outputs": [
    {
     "name": "stdout",
     "output_type": "stream",
     "text": [
      "<class 'pandas.core.frame.DataFrame'>\n",
      "RangeIndex: 564516 entries, 0 to 564515\n",
      "Data columns (total 4 columns):\n",
      " #   Column     Non-Null Count   Dtype  \n",
      "---  ------     --------------   -----  \n",
      " 0   Date/Time  564516 non-null  object \n",
      " 1   Lat        564516 non-null  float64\n",
      " 2   Lon        564516 non-null  float64\n",
      " 3   Base       564516 non-null  object \n",
      "dtypes: float64(2), object(2)\n",
      "memory usage: 17.2+ MB\n"
     ]
    }
   ],
   "source": [
    "x.info()"
   ]
  },
  {
   "cell_type": "markdown",
   "metadata": {},
   "source": [
    "There are 564516 entries with no missing data point.\n",
    "\n",
    "`Lon` ans `Lat` are of *float64* data type. These values can be used after scaling them (see later) without further preprocessing. \n",
    "\n",
    "`Date/Time` is of type *object* and therefore needs to be converted into a time series format.\n",
    "\n",
    "`Base` is also of type *object*. We will use one-hot-encoding here."
   ]
  },
  {
   "cell_type": "markdown",
   "metadata": {},
   "source": [
    "Lets have a closer look at the `Base` parameter."
   ]
  },
  {
   "cell_type": "code",
   "execution_count": 10,
   "metadata": {},
   "outputs": [
    {
     "data": {
      "text/plain": [
       "B02682    227808\n",
       "B02598    183263\n",
       "B02617    108001\n",
       "B02512     35536\n",
       "B02764      9908\n",
       "Name: Base, dtype: int64"
      ]
     },
     "execution_count": 10,
     "metadata": {},
     "output_type": "execute_result"
    }
   ],
   "source": [
    "x['Base'].value_counts()"
   ]
  },
  {
   "cell_type": "markdown",
   "metadata": {},
   "source": [
    "The `Base` parameter has five different values."
   ]
  },
  {
   "cell_type": "markdown",
   "metadata": {},
   "source": [
    "### Prepare the data"
   ]
  },
  {
   "cell_type": "markdown",
   "metadata": {},
   "source": [
    "Add a new parameter `pickups` to count the number of pickups. **This will be the label!**"
   ]
  },
  {
   "cell_type": "code",
   "execution_count": 11,
   "metadata": {},
   "outputs": [],
   "source": [
    "x['Pickups'] = 1"
   ]
  },
  {
   "cell_type": "code",
   "execution_count": 12,
   "metadata": {},
   "outputs": [
    {
     "data": {
      "text/html": [
       "<div>\n",
       "<style scoped>\n",
       "    .dataframe tbody tr th:only-of-type {\n",
       "        vertical-align: middle;\n",
       "    }\n",
       "\n",
       "    .dataframe tbody tr th {\n",
       "        vertical-align: top;\n",
       "    }\n",
       "\n",
       "    .dataframe thead th {\n",
       "        text-align: right;\n",
       "    }\n",
       "</style>\n",
       "<table border=\"1\" class=\"dataframe\">\n",
       "  <thead>\n",
       "    <tr style=\"text-align: right;\">\n",
       "      <th></th>\n",
       "      <th>Date/Time</th>\n",
       "      <th>Lat</th>\n",
       "      <th>Lon</th>\n",
       "      <th>Base</th>\n",
       "      <th>Pickups</th>\n",
       "    </tr>\n",
       "  </thead>\n",
       "  <tbody>\n",
       "    <tr>\n",
       "      <th>0</th>\n",
       "      <td>4/1/2014 0:11:00</td>\n",
       "      <td>40.7690</td>\n",
       "      <td>-73.9549</td>\n",
       "      <td>B02512</td>\n",
       "      <td>1</td>\n",
       "    </tr>\n",
       "    <tr>\n",
       "      <th>1</th>\n",
       "      <td>4/1/2014 0:17:00</td>\n",
       "      <td>40.7267</td>\n",
       "      <td>-74.0345</td>\n",
       "      <td>B02512</td>\n",
       "      <td>1</td>\n",
       "    </tr>\n",
       "    <tr>\n",
       "      <th>2</th>\n",
       "      <td>4/1/2014 0:21:00</td>\n",
       "      <td>40.7316</td>\n",
       "      <td>-73.9873</td>\n",
       "      <td>B02512</td>\n",
       "      <td>1</td>\n",
       "    </tr>\n",
       "    <tr>\n",
       "      <th>3</th>\n",
       "      <td>4/1/2014 0:28:00</td>\n",
       "      <td>40.7588</td>\n",
       "      <td>-73.9776</td>\n",
       "      <td>B02512</td>\n",
       "      <td>1</td>\n",
       "    </tr>\n",
       "    <tr>\n",
       "      <th>4</th>\n",
       "      <td>4/1/2014 0:33:00</td>\n",
       "      <td>40.7594</td>\n",
       "      <td>-73.9722</td>\n",
       "      <td>B02512</td>\n",
       "      <td>1</td>\n",
       "    </tr>\n",
       "  </tbody>\n",
       "</table>\n",
       "</div>"
      ],
      "text/plain": [
       "          Date/Time      Lat      Lon    Base  Pickups\n",
       "0  4/1/2014 0:11:00  40.7690 -73.9549  B02512        1\n",
       "1  4/1/2014 0:17:00  40.7267 -74.0345  B02512        1\n",
       "2  4/1/2014 0:21:00  40.7316 -73.9873  B02512        1\n",
       "3  4/1/2014 0:28:00  40.7588 -73.9776  B02512        1\n",
       "4  4/1/2014 0:33:00  40.7594 -73.9722  B02512        1"
      ]
     },
     "execution_count": 12,
     "metadata": {},
     "output_type": "execute_result"
    }
   ],
   "source": [
    "x.head()"
   ]
  },
  {
   "cell_type": "markdown",
   "metadata": {},
   "source": [
    "Extract the `Date/Time` parameter column to convert it into a **time series format**."
   ]
  },
  {
   "cell_type": "code",
   "execution_count": 13,
   "metadata": {},
   "outputs": [],
   "source": [
    "x_date = x['Date/Time']"
   ]
  },
  {
   "cell_type": "code",
   "execution_count": 14,
   "metadata": {},
   "outputs": [
    {
     "data": {
      "text/plain": [
       "0    4/1/2014 0:11:00\n",
       "1    4/1/2014 0:17:00\n",
       "2    4/1/2014 0:21:00\n",
       "3    4/1/2014 0:28:00\n",
       "4    4/1/2014 0:33:00\n",
       "Name: Date/Time, dtype: object"
      ]
     },
     "execution_count": 14,
     "metadata": {},
     "output_type": "execute_result"
    }
   ],
   "source": [
    "x_date.head()"
   ]
  },
  {
   "cell_type": "code",
   "execution_count": 15,
   "metadata": {},
   "outputs": [],
   "source": [
    "x_date = pd.to_datetime(x_date)"
   ]
  },
  {
   "cell_type": "code",
   "execution_count": 16,
   "metadata": {},
   "outputs": [
    {
     "data": {
      "text/plain": [
       "0        2014-04-01 00:11:00\n",
       "1        2014-04-01 00:17:00\n",
       "2        2014-04-01 00:21:00\n",
       "3        2014-04-01 00:28:00\n",
       "4        2014-04-01 00:33:00\n",
       "                 ...        \n",
       "564511   2014-04-30 23:22:00\n",
       "564512   2014-04-30 23:26:00\n",
       "564513   2014-04-30 23:31:00\n",
       "564514   2014-04-30 23:32:00\n",
       "564515   2014-04-30 23:48:00\n",
       "Name: Date/Time, Length: 564516, dtype: datetime64[ns]"
      ]
     },
     "execution_count": 16,
     "metadata": {},
     "output_type": "execute_result"
    }
   ],
   "source": [
    "x_date"
   ]
  },
  {
   "cell_type": "markdown",
   "metadata": {},
   "source": [
    "Convert x_date back to pandas DataFrame type."
   ]
  },
  {
   "cell_type": "code",
   "execution_count": 17,
   "metadata": {},
   "outputs": [],
   "source": [
    "x_data = x_date.to_frame()"
   ]
  },
  {
   "cell_type": "code",
   "execution_count": 18,
   "metadata": {},
   "outputs": [
    {
     "data": {
      "text/html": [
       "<div>\n",
       "<style scoped>\n",
       "    .dataframe tbody tr th:only-of-type {\n",
       "        vertical-align: middle;\n",
       "    }\n",
       "\n",
       "    .dataframe tbody tr th {\n",
       "        vertical-align: top;\n",
       "    }\n",
       "\n",
       "    .dataframe thead th {\n",
       "        text-align: right;\n",
       "    }\n",
       "</style>\n",
       "<table border=\"1\" class=\"dataframe\">\n",
       "  <thead>\n",
       "    <tr style=\"text-align: right;\">\n",
       "      <th></th>\n",
       "      <th>Date/Time</th>\n",
       "    </tr>\n",
       "  </thead>\n",
       "  <tbody>\n",
       "    <tr>\n",
       "      <th>0</th>\n",
       "      <td>2014-04-01 00:11:00</td>\n",
       "    </tr>\n",
       "    <tr>\n",
       "      <th>1</th>\n",
       "      <td>2014-04-01 00:17:00</td>\n",
       "    </tr>\n",
       "    <tr>\n",
       "      <th>2</th>\n",
       "      <td>2014-04-01 00:21:00</td>\n",
       "    </tr>\n",
       "    <tr>\n",
       "      <th>3</th>\n",
       "      <td>2014-04-01 00:28:00</td>\n",
       "    </tr>\n",
       "    <tr>\n",
       "      <th>4</th>\n",
       "      <td>2014-04-01 00:33:00</td>\n",
       "    </tr>\n",
       "    <tr>\n",
       "      <th>...</th>\n",
       "      <td>...</td>\n",
       "    </tr>\n",
       "    <tr>\n",
       "      <th>564511</th>\n",
       "      <td>2014-04-30 23:22:00</td>\n",
       "    </tr>\n",
       "    <tr>\n",
       "      <th>564512</th>\n",
       "      <td>2014-04-30 23:26:00</td>\n",
       "    </tr>\n",
       "    <tr>\n",
       "      <th>564513</th>\n",
       "      <td>2014-04-30 23:31:00</td>\n",
       "    </tr>\n",
       "    <tr>\n",
       "      <th>564514</th>\n",
       "      <td>2014-04-30 23:32:00</td>\n",
       "    </tr>\n",
       "    <tr>\n",
       "      <th>564515</th>\n",
       "      <td>2014-04-30 23:48:00</td>\n",
       "    </tr>\n",
       "  </tbody>\n",
       "</table>\n",
       "<p>564516 rows × 1 columns</p>\n",
       "</div>"
      ],
      "text/plain": [
       "                 Date/Time\n",
       "0      2014-04-01 00:11:00\n",
       "1      2014-04-01 00:17:00\n",
       "2      2014-04-01 00:21:00\n",
       "3      2014-04-01 00:28:00\n",
       "4      2014-04-01 00:33:00\n",
       "...                    ...\n",
       "564511 2014-04-30 23:22:00\n",
       "564512 2014-04-30 23:26:00\n",
       "564513 2014-04-30 23:31:00\n",
       "564514 2014-04-30 23:32:00\n",
       "564515 2014-04-30 23:48:00\n",
       "\n",
       "[564516 rows x 1 columns]"
      ]
     },
     "execution_count": 18,
     "metadata": {},
     "output_type": "execute_result"
    }
   ],
   "source": [
    "x_data"
   ]
  },
  {
   "cell_type": "code",
   "execution_count": 19,
   "metadata": {},
   "outputs": [
    {
     "data": {
      "text/html": [
       "<div>\n",
       "<style scoped>\n",
       "    .dataframe tbody tr th:only-of-type {\n",
       "        vertical-align: middle;\n",
       "    }\n",
       "\n",
       "    .dataframe tbody tr th {\n",
       "        vertical-align: top;\n",
       "    }\n",
       "\n",
       "    .dataframe thead th {\n",
       "        text-align: right;\n",
       "    }\n",
       "</style>\n",
       "<table border=\"1\" class=\"dataframe\">\n",
       "  <thead>\n",
       "    <tr style=\"text-align: right;\">\n",
       "      <th></th>\n",
       "      <th>Date/Time</th>\n",
       "      <th>Lat</th>\n",
       "      <th>Lon</th>\n",
       "      <th>Base</th>\n",
       "      <th>Pickups</th>\n",
       "    </tr>\n",
       "  </thead>\n",
       "  <tbody>\n",
       "    <tr>\n",
       "      <th>0</th>\n",
       "      <td>4/1/2014 0:11:00</td>\n",
       "      <td>40.7690</td>\n",
       "      <td>-73.9549</td>\n",
       "      <td>B02512</td>\n",
       "      <td>1</td>\n",
       "    </tr>\n",
       "    <tr>\n",
       "      <th>1</th>\n",
       "      <td>4/1/2014 0:17:00</td>\n",
       "      <td>40.7267</td>\n",
       "      <td>-74.0345</td>\n",
       "      <td>B02512</td>\n",
       "      <td>1</td>\n",
       "    </tr>\n",
       "    <tr>\n",
       "      <th>2</th>\n",
       "      <td>4/1/2014 0:21:00</td>\n",
       "      <td>40.7316</td>\n",
       "      <td>-73.9873</td>\n",
       "      <td>B02512</td>\n",
       "      <td>1</td>\n",
       "    </tr>\n",
       "    <tr>\n",
       "      <th>3</th>\n",
       "      <td>4/1/2014 0:28:00</td>\n",
       "      <td>40.7588</td>\n",
       "      <td>-73.9776</td>\n",
       "      <td>B02512</td>\n",
       "      <td>1</td>\n",
       "    </tr>\n",
       "    <tr>\n",
       "      <th>4</th>\n",
       "      <td>4/1/2014 0:33:00</td>\n",
       "      <td>40.7594</td>\n",
       "      <td>-73.9722</td>\n",
       "      <td>B02512</td>\n",
       "      <td>1</td>\n",
       "    </tr>\n",
       "    <tr>\n",
       "      <th>...</th>\n",
       "      <td>...</td>\n",
       "      <td>...</td>\n",
       "      <td>...</td>\n",
       "      <td>...</td>\n",
       "      <td>...</td>\n",
       "    </tr>\n",
       "    <tr>\n",
       "      <th>564511</th>\n",
       "      <td>4/30/2014 23:22:00</td>\n",
       "      <td>40.7640</td>\n",
       "      <td>-73.9744</td>\n",
       "      <td>B02764</td>\n",
       "      <td>1</td>\n",
       "    </tr>\n",
       "    <tr>\n",
       "      <th>564512</th>\n",
       "      <td>4/30/2014 23:26:00</td>\n",
       "      <td>40.7629</td>\n",
       "      <td>-73.9672</td>\n",
       "      <td>B02764</td>\n",
       "      <td>1</td>\n",
       "    </tr>\n",
       "    <tr>\n",
       "      <th>564513</th>\n",
       "      <td>4/30/2014 23:31:00</td>\n",
       "      <td>40.7443</td>\n",
       "      <td>-73.9889</td>\n",
       "      <td>B02764</td>\n",
       "      <td>1</td>\n",
       "    </tr>\n",
       "    <tr>\n",
       "      <th>564514</th>\n",
       "      <td>4/30/2014 23:32:00</td>\n",
       "      <td>40.6756</td>\n",
       "      <td>-73.9405</td>\n",
       "      <td>B02764</td>\n",
       "      <td>1</td>\n",
       "    </tr>\n",
       "    <tr>\n",
       "      <th>564515</th>\n",
       "      <td>4/30/2014 23:48:00</td>\n",
       "      <td>40.6880</td>\n",
       "      <td>-73.9608</td>\n",
       "      <td>B02764</td>\n",
       "      <td>1</td>\n",
       "    </tr>\n",
       "  </tbody>\n",
       "</table>\n",
       "<p>564516 rows × 5 columns</p>\n",
       "</div>"
      ],
      "text/plain": [
       "                 Date/Time      Lat      Lon    Base  Pickups\n",
       "0         4/1/2014 0:11:00  40.7690 -73.9549  B02512        1\n",
       "1         4/1/2014 0:17:00  40.7267 -74.0345  B02512        1\n",
       "2         4/1/2014 0:21:00  40.7316 -73.9873  B02512        1\n",
       "3         4/1/2014 0:28:00  40.7588 -73.9776  B02512        1\n",
       "4         4/1/2014 0:33:00  40.7594 -73.9722  B02512        1\n",
       "...                    ...      ...      ...     ...      ...\n",
       "564511  4/30/2014 23:22:00  40.7640 -73.9744  B02764        1\n",
       "564512  4/30/2014 23:26:00  40.7629 -73.9672  B02764        1\n",
       "564513  4/30/2014 23:31:00  40.7443 -73.9889  B02764        1\n",
       "564514  4/30/2014 23:32:00  40.6756 -73.9405  B02764        1\n",
       "564515  4/30/2014 23:48:00  40.6880 -73.9608  B02764        1\n",
       "\n",
       "[564516 rows x 5 columns]"
      ]
     },
     "execution_count": 19,
     "metadata": {},
     "output_type": "execute_result"
    }
   ],
   "source": [
    "x"
   ]
  },
  {
   "cell_type": "markdown",
   "metadata": {},
   "source": [
    "Replace the original `Date/Time` column by the altered time series `Date/Time` column."
   ]
  },
  {
   "cell_type": "code",
   "execution_count": 20,
   "metadata": {},
   "outputs": [],
   "source": [
    "x['Date/Time'] = x_data['Date/Time']"
   ]
  },
  {
   "cell_type": "code",
   "execution_count": 21,
   "metadata": {},
   "outputs": [
    {
     "data": {
      "text/html": [
       "<div>\n",
       "<style scoped>\n",
       "    .dataframe tbody tr th:only-of-type {\n",
       "        vertical-align: middle;\n",
       "    }\n",
       "\n",
       "    .dataframe tbody tr th {\n",
       "        vertical-align: top;\n",
       "    }\n",
       "\n",
       "    .dataframe thead th {\n",
       "        text-align: right;\n",
       "    }\n",
       "</style>\n",
       "<table border=\"1\" class=\"dataframe\">\n",
       "  <thead>\n",
       "    <tr style=\"text-align: right;\">\n",
       "      <th></th>\n",
       "      <th>Date/Time</th>\n",
       "      <th>Lat</th>\n",
       "      <th>Lon</th>\n",
       "      <th>Base</th>\n",
       "      <th>Pickups</th>\n",
       "    </tr>\n",
       "  </thead>\n",
       "  <tbody>\n",
       "    <tr>\n",
       "      <th>0</th>\n",
       "      <td>2014-04-01 00:11:00</td>\n",
       "      <td>40.7690</td>\n",
       "      <td>-73.9549</td>\n",
       "      <td>B02512</td>\n",
       "      <td>1</td>\n",
       "    </tr>\n",
       "    <tr>\n",
       "      <th>1</th>\n",
       "      <td>2014-04-01 00:17:00</td>\n",
       "      <td>40.7267</td>\n",
       "      <td>-74.0345</td>\n",
       "      <td>B02512</td>\n",
       "      <td>1</td>\n",
       "    </tr>\n",
       "    <tr>\n",
       "      <th>2</th>\n",
       "      <td>2014-04-01 00:21:00</td>\n",
       "      <td>40.7316</td>\n",
       "      <td>-73.9873</td>\n",
       "      <td>B02512</td>\n",
       "      <td>1</td>\n",
       "    </tr>\n",
       "    <tr>\n",
       "      <th>3</th>\n",
       "      <td>2014-04-01 00:28:00</td>\n",
       "      <td>40.7588</td>\n",
       "      <td>-73.9776</td>\n",
       "      <td>B02512</td>\n",
       "      <td>1</td>\n",
       "    </tr>\n",
       "    <tr>\n",
       "      <th>4</th>\n",
       "      <td>2014-04-01 00:33:00</td>\n",
       "      <td>40.7594</td>\n",
       "      <td>-73.9722</td>\n",
       "      <td>B02512</td>\n",
       "      <td>1</td>\n",
       "    </tr>\n",
       "  </tbody>\n",
       "</table>\n",
       "</div>"
      ],
      "text/plain": [
       "            Date/Time      Lat      Lon    Base  Pickups\n",
       "0 2014-04-01 00:11:00  40.7690 -73.9549  B02512        1\n",
       "1 2014-04-01 00:17:00  40.7267 -74.0345  B02512        1\n",
       "2 2014-04-01 00:21:00  40.7316 -73.9873  B02512        1\n",
       "3 2014-04-01 00:28:00  40.7588 -73.9776  B02512        1\n",
       "4 2014-04-01 00:33:00  40.7594 -73.9722  B02512        1"
      ]
     },
     "execution_count": 21,
     "metadata": {},
     "output_type": "execute_result"
    }
   ],
   "source": [
    "x.head()"
   ]
  },
  {
   "cell_type": "markdown",
   "metadata": {},
   "source": [
    "Add an additional column for a new parameter called *neighborhood*. This column stores the neighborhoods of NYC generated out of the latitude and longitude values."
   ]
  },
  {
   "cell_type": "code",
   "execution_count": 22,
   "metadata": {},
   "outputs": [],
   "source": [
    "x_add = x.copy()"
   ]
  },
  {
   "cell_type": "code",
   "execution_count": 23,
   "metadata": {},
   "outputs": [],
   "source": [
    "x_add['Neighborhood'] = np.zeros(len(x_add))"
   ]
  },
  {
   "cell_type": "code",
   "execution_count": 24,
   "metadata": {},
   "outputs": [
    {
     "data": {
      "text/html": [
       "<div>\n",
       "<style scoped>\n",
       "    .dataframe tbody tr th:only-of-type {\n",
       "        vertical-align: middle;\n",
       "    }\n",
       "\n",
       "    .dataframe tbody tr th {\n",
       "        vertical-align: top;\n",
       "    }\n",
       "\n",
       "    .dataframe thead th {\n",
       "        text-align: right;\n",
       "    }\n",
       "</style>\n",
       "<table border=\"1\" class=\"dataframe\">\n",
       "  <thead>\n",
       "    <tr style=\"text-align: right;\">\n",
       "      <th></th>\n",
       "      <th>Date/Time</th>\n",
       "      <th>Lat</th>\n",
       "      <th>Lon</th>\n",
       "      <th>Base</th>\n",
       "      <th>Pickups</th>\n",
       "      <th>Neighborhood</th>\n",
       "    </tr>\n",
       "  </thead>\n",
       "  <tbody>\n",
       "    <tr>\n",
       "      <th>0</th>\n",
       "      <td>2014-04-01 00:11:00</td>\n",
       "      <td>40.7690</td>\n",
       "      <td>-73.9549</td>\n",
       "      <td>B02512</td>\n",
       "      <td>1</td>\n",
       "      <td>0.0</td>\n",
       "    </tr>\n",
       "    <tr>\n",
       "      <th>1</th>\n",
       "      <td>2014-04-01 00:17:00</td>\n",
       "      <td>40.7267</td>\n",
       "      <td>-74.0345</td>\n",
       "      <td>B02512</td>\n",
       "      <td>1</td>\n",
       "      <td>0.0</td>\n",
       "    </tr>\n",
       "    <tr>\n",
       "      <th>2</th>\n",
       "      <td>2014-04-01 00:21:00</td>\n",
       "      <td>40.7316</td>\n",
       "      <td>-73.9873</td>\n",
       "      <td>B02512</td>\n",
       "      <td>1</td>\n",
       "      <td>0.0</td>\n",
       "    </tr>\n",
       "    <tr>\n",
       "      <th>3</th>\n",
       "      <td>2014-04-01 00:28:00</td>\n",
       "      <td>40.7588</td>\n",
       "      <td>-73.9776</td>\n",
       "      <td>B02512</td>\n",
       "      <td>1</td>\n",
       "      <td>0.0</td>\n",
       "    </tr>\n",
       "    <tr>\n",
       "      <th>4</th>\n",
       "      <td>2014-04-01 00:33:00</td>\n",
       "      <td>40.7594</td>\n",
       "      <td>-73.9722</td>\n",
       "      <td>B02512</td>\n",
       "      <td>1</td>\n",
       "      <td>0.0</td>\n",
       "    </tr>\n",
       "    <tr>\n",
       "      <th>...</th>\n",
       "      <td>...</td>\n",
       "      <td>...</td>\n",
       "      <td>...</td>\n",
       "      <td>...</td>\n",
       "      <td>...</td>\n",
       "      <td>...</td>\n",
       "    </tr>\n",
       "    <tr>\n",
       "      <th>564511</th>\n",
       "      <td>2014-04-30 23:22:00</td>\n",
       "      <td>40.7640</td>\n",
       "      <td>-73.9744</td>\n",
       "      <td>B02764</td>\n",
       "      <td>1</td>\n",
       "      <td>0.0</td>\n",
       "    </tr>\n",
       "    <tr>\n",
       "      <th>564512</th>\n",
       "      <td>2014-04-30 23:26:00</td>\n",
       "      <td>40.7629</td>\n",
       "      <td>-73.9672</td>\n",
       "      <td>B02764</td>\n",
       "      <td>1</td>\n",
       "      <td>0.0</td>\n",
       "    </tr>\n",
       "    <tr>\n",
       "      <th>564513</th>\n",
       "      <td>2014-04-30 23:31:00</td>\n",
       "      <td>40.7443</td>\n",
       "      <td>-73.9889</td>\n",
       "      <td>B02764</td>\n",
       "      <td>1</td>\n",
       "      <td>0.0</td>\n",
       "    </tr>\n",
       "    <tr>\n",
       "      <th>564514</th>\n",
       "      <td>2014-04-30 23:32:00</td>\n",
       "      <td>40.6756</td>\n",
       "      <td>-73.9405</td>\n",
       "      <td>B02764</td>\n",
       "      <td>1</td>\n",
       "      <td>0.0</td>\n",
       "    </tr>\n",
       "    <tr>\n",
       "      <th>564515</th>\n",
       "      <td>2014-04-30 23:48:00</td>\n",
       "      <td>40.6880</td>\n",
       "      <td>-73.9608</td>\n",
       "      <td>B02764</td>\n",
       "      <td>1</td>\n",
       "      <td>0.0</td>\n",
       "    </tr>\n",
       "  </tbody>\n",
       "</table>\n",
       "<p>564516 rows × 6 columns</p>\n",
       "</div>"
      ],
      "text/plain": [
       "                 Date/Time      Lat      Lon    Base  Pickups  Neighborhood\n",
       "0      2014-04-01 00:11:00  40.7690 -73.9549  B02512        1           0.0\n",
       "1      2014-04-01 00:17:00  40.7267 -74.0345  B02512        1           0.0\n",
       "2      2014-04-01 00:21:00  40.7316 -73.9873  B02512        1           0.0\n",
       "3      2014-04-01 00:28:00  40.7588 -73.9776  B02512        1           0.0\n",
       "4      2014-04-01 00:33:00  40.7594 -73.9722  B02512        1           0.0\n",
       "...                    ...      ...      ...     ...      ...           ...\n",
       "564511 2014-04-30 23:22:00  40.7640 -73.9744  B02764        1           0.0\n",
       "564512 2014-04-30 23:26:00  40.7629 -73.9672  B02764        1           0.0\n",
       "564513 2014-04-30 23:31:00  40.7443 -73.9889  B02764        1           0.0\n",
       "564514 2014-04-30 23:32:00  40.6756 -73.9405  B02764        1           0.0\n",
       "564515 2014-04-30 23:48:00  40.6880 -73.9608  B02764        1           0.0\n",
       "\n",
       "[564516 rows x 6 columns]"
      ]
     },
     "execution_count": 24,
     "metadata": {},
     "output_type": "execute_result"
    }
   ],
   "source": [
    "x_add"
   ]
  },
  {
   "cell_type": "markdown",
   "metadata": {},
   "source": [
    "Load a JSON file with the *latitude / longitude* to neighborhood correlation."
   ]
  },
  {
   "cell_type": "code",
   "execution_count": 25,
   "metadata": {},
   "outputs": [],
   "source": [
    "# geofile = json.load(open(\"datasets/Neighborhood_Tabulation_Areas.geojson\"))\n",
    "geofile = json.load(open(\"datasets/NY_neighborhoods.geojson\"))"
   ]
  },
  {
   "cell_type": "code",
   "execution_count": 26,
   "metadata": {},
   "outputs": [],
   "source": [
    "geo_points = list(zip(x_add['Lon'], x_add['Lat']))"
   ]
  },
  {
   "cell_type": "code",
   "execution_count": 27,
   "metadata": {},
   "outputs": [],
   "source": [
    "for feature in geofile['features']:\n",
    "    coords = feature['geometry']['coordinates'][0]\n",
    "    p = path.Path(coords)\n",
    "    inds = p.contains_points(geo_points)\n",
    "    list_neighborhoods = [str(feature['properties']['neighborhood'])]*np.sum(inds)\n",
    "    x_add.loc[x_add.index[inds], 'Neighborhood'] = list_neighborhoods"
   ]
  },
  {
   "cell_type": "code",
   "execution_count": 28,
   "metadata": {},
   "outputs": [
    {
     "data": {
      "text/html": [
       "<div>\n",
       "<style scoped>\n",
       "    .dataframe tbody tr th:only-of-type {\n",
       "        vertical-align: middle;\n",
       "    }\n",
       "\n",
       "    .dataframe tbody tr th {\n",
       "        vertical-align: top;\n",
       "    }\n",
       "\n",
       "    .dataframe thead th {\n",
       "        text-align: right;\n",
       "    }\n",
       "</style>\n",
       "<table border=\"1\" class=\"dataframe\">\n",
       "  <thead>\n",
       "    <tr style=\"text-align: right;\">\n",
       "      <th></th>\n",
       "      <th>Date/Time</th>\n",
       "      <th>Lat</th>\n",
       "      <th>Lon</th>\n",
       "      <th>Base</th>\n",
       "      <th>Pickups</th>\n",
       "      <th>Neighborhood</th>\n",
       "    </tr>\n",
       "  </thead>\n",
       "  <tbody>\n",
       "    <tr>\n",
       "      <th>0</th>\n",
       "      <td>2014-04-01 00:11:00</td>\n",
       "      <td>40.7690</td>\n",
       "      <td>-73.9549</td>\n",
       "      <td>B02512</td>\n",
       "      <td>1</td>\n",
       "      <td>Upper East Side</td>\n",
       "    </tr>\n",
       "    <tr>\n",
       "      <th>1</th>\n",
       "      <td>2014-04-01 00:17:00</td>\n",
       "      <td>40.7267</td>\n",
       "      <td>-74.0345</td>\n",
       "      <td>B02512</td>\n",
       "      <td>1</td>\n",
       "      <td>0</td>\n",
       "    </tr>\n",
       "    <tr>\n",
       "      <th>2</th>\n",
       "      <td>2014-04-01 00:21:00</td>\n",
       "      <td>40.7316</td>\n",
       "      <td>-73.9873</td>\n",
       "      <td>B02512</td>\n",
       "      <td>1</td>\n",
       "      <td>East Village</td>\n",
       "    </tr>\n",
       "    <tr>\n",
       "      <th>3</th>\n",
       "      <td>2014-04-01 00:28:00</td>\n",
       "      <td>40.7588</td>\n",
       "      <td>-73.9776</td>\n",
       "      <td>B02512</td>\n",
       "      <td>1</td>\n",
       "      <td>Midtown</td>\n",
       "    </tr>\n",
       "    <tr>\n",
       "      <th>4</th>\n",
       "      <td>2014-04-01 00:33:00</td>\n",
       "      <td>40.7594</td>\n",
       "      <td>-73.9722</td>\n",
       "      <td>B02512</td>\n",
       "      <td>1</td>\n",
       "      <td>Midtown</td>\n",
       "    </tr>\n",
       "    <tr>\n",
       "      <th>...</th>\n",
       "      <td>...</td>\n",
       "      <td>...</td>\n",
       "      <td>...</td>\n",
       "      <td>...</td>\n",
       "      <td>...</td>\n",
       "      <td>...</td>\n",
       "    </tr>\n",
       "    <tr>\n",
       "      <th>564511</th>\n",
       "      <td>2014-04-30 23:22:00</td>\n",
       "      <td>40.7640</td>\n",
       "      <td>-73.9744</td>\n",
       "      <td>B02764</td>\n",
       "      <td>1</td>\n",
       "      <td>Midtown</td>\n",
       "    </tr>\n",
       "    <tr>\n",
       "      <th>564512</th>\n",
       "      <td>2014-04-30 23:26:00</td>\n",
       "      <td>40.7629</td>\n",
       "      <td>-73.9672</td>\n",
       "      <td>B02764</td>\n",
       "      <td>1</td>\n",
       "      <td>Upper East Side</td>\n",
       "    </tr>\n",
       "    <tr>\n",
       "      <th>564513</th>\n",
       "      <td>2014-04-30 23:31:00</td>\n",
       "      <td>40.7443</td>\n",
       "      <td>-73.9889</td>\n",
       "      <td>B02764</td>\n",
       "      <td>1</td>\n",
       "      <td>Midtown</td>\n",
       "    </tr>\n",
       "    <tr>\n",
       "      <th>564514</th>\n",
       "      <td>2014-04-30 23:32:00</td>\n",
       "      <td>40.6756</td>\n",
       "      <td>-73.9405</td>\n",
       "      <td>B02764</td>\n",
       "      <td>1</td>\n",
       "      <td>Crown Heights</td>\n",
       "    </tr>\n",
       "    <tr>\n",
       "      <th>564515</th>\n",
       "      <td>2014-04-30 23:48:00</td>\n",
       "      <td>40.6880</td>\n",
       "      <td>-73.9608</td>\n",
       "      <td>B02764</td>\n",
       "      <td>1</td>\n",
       "      <td>Clinton Hill</td>\n",
       "    </tr>\n",
       "  </tbody>\n",
       "</table>\n",
       "<p>564516 rows × 6 columns</p>\n",
       "</div>"
      ],
      "text/plain": [
       "                 Date/Time      Lat      Lon    Base  Pickups     Neighborhood\n",
       "0      2014-04-01 00:11:00  40.7690 -73.9549  B02512        1  Upper East Side\n",
       "1      2014-04-01 00:17:00  40.7267 -74.0345  B02512        1                0\n",
       "2      2014-04-01 00:21:00  40.7316 -73.9873  B02512        1     East Village\n",
       "3      2014-04-01 00:28:00  40.7588 -73.9776  B02512        1          Midtown\n",
       "4      2014-04-01 00:33:00  40.7594 -73.9722  B02512        1          Midtown\n",
       "...                    ...      ...      ...     ...      ...              ...\n",
       "564511 2014-04-30 23:22:00  40.7640 -73.9744  B02764        1          Midtown\n",
       "564512 2014-04-30 23:26:00  40.7629 -73.9672  B02764        1  Upper East Side\n",
       "564513 2014-04-30 23:31:00  40.7443 -73.9889  B02764        1          Midtown\n",
       "564514 2014-04-30 23:32:00  40.6756 -73.9405  B02764        1    Crown Heights\n",
       "564515 2014-04-30 23:48:00  40.6880 -73.9608  B02764        1     Clinton Hill\n",
       "\n",
       "[564516 rows x 6 columns]"
      ]
     },
     "execution_count": 28,
     "metadata": {},
     "output_type": "execute_result"
    }
   ],
   "source": [
    "x_add"
   ]
  },
  {
   "cell_type": "markdown",
   "metadata": {},
   "source": [
    "Remove all non-matching entries. These were entries with pickups outside of central NYC."
   ]
  },
  {
   "cell_type": "code",
   "execution_count": 29,
   "metadata": {},
   "outputs": [],
   "source": [
    "x_add = x_add[x_add['Neighborhood'] != 0]"
   ]
  },
  {
   "cell_type": "code",
   "execution_count": 30,
   "metadata": {},
   "outputs": [
    {
     "data": {
      "text/html": [
       "<div>\n",
       "<style scoped>\n",
       "    .dataframe tbody tr th:only-of-type {\n",
       "        vertical-align: middle;\n",
       "    }\n",
       "\n",
       "    .dataframe tbody tr th {\n",
       "        vertical-align: top;\n",
       "    }\n",
       "\n",
       "    .dataframe thead th {\n",
       "        text-align: right;\n",
       "    }\n",
       "</style>\n",
       "<table border=\"1\" class=\"dataframe\">\n",
       "  <thead>\n",
       "    <tr style=\"text-align: right;\">\n",
       "      <th></th>\n",
       "      <th>Date/Time</th>\n",
       "      <th>Lat</th>\n",
       "      <th>Lon</th>\n",
       "      <th>Base</th>\n",
       "      <th>Pickups</th>\n",
       "      <th>Neighborhood</th>\n",
       "    </tr>\n",
       "  </thead>\n",
       "  <tbody>\n",
       "    <tr>\n",
       "      <th>0</th>\n",
       "      <td>2014-04-01 00:11:00</td>\n",
       "      <td>40.7690</td>\n",
       "      <td>-73.9549</td>\n",
       "      <td>B02512</td>\n",
       "      <td>1</td>\n",
       "      <td>Upper East Side</td>\n",
       "    </tr>\n",
       "    <tr>\n",
       "      <th>2</th>\n",
       "      <td>2014-04-01 00:21:00</td>\n",
       "      <td>40.7316</td>\n",
       "      <td>-73.9873</td>\n",
       "      <td>B02512</td>\n",
       "      <td>1</td>\n",
       "      <td>East Village</td>\n",
       "    </tr>\n",
       "    <tr>\n",
       "      <th>3</th>\n",
       "      <td>2014-04-01 00:28:00</td>\n",
       "      <td>40.7588</td>\n",
       "      <td>-73.9776</td>\n",
       "      <td>B02512</td>\n",
       "      <td>1</td>\n",
       "      <td>Midtown</td>\n",
       "    </tr>\n",
       "    <tr>\n",
       "      <th>4</th>\n",
       "      <td>2014-04-01 00:33:00</td>\n",
       "      <td>40.7594</td>\n",
       "      <td>-73.9722</td>\n",
       "      <td>B02512</td>\n",
       "      <td>1</td>\n",
       "      <td>Midtown</td>\n",
       "    </tr>\n",
       "    <tr>\n",
       "      <th>6</th>\n",
       "      <td>2014-04-01 00:39:00</td>\n",
       "      <td>40.7223</td>\n",
       "      <td>-73.9887</td>\n",
       "      <td>B02512</td>\n",
       "      <td>1</td>\n",
       "      <td>Lower East Side</td>\n",
       "    </tr>\n",
       "    <tr>\n",
       "      <th>...</th>\n",
       "      <td>...</td>\n",
       "      <td>...</td>\n",
       "      <td>...</td>\n",
       "      <td>...</td>\n",
       "      <td>...</td>\n",
       "      <td>...</td>\n",
       "    </tr>\n",
       "    <tr>\n",
       "      <th>564511</th>\n",
       "      <td>2014-04-30 23:22:00</td>\n",
       "      <td>40.7640</td>\n",
       "      <td>-73.9744</td>\n",
       "      <td>B02764</td>\n",
       "      <td>1</td>\n",
       "      <td>Midtown</td>\n",
       "    </tr>\n",
       "    <tr>\n",
       "      <th>564512</th>\n",
       "      <td>2014-04-30 23:26:00</td>\n",
       "      <td>40.7629</td>\n",
       "      <td>-73.9672</td>\n",
       "      <td>B02764</td>\n",
       "      <td>1</td>\n",
       "      <td>Upper East Side</td>\n",
       "    </tr>\n",
       "    <tr>\n",
       "      <th>564513</th>\n",
       "      <td>2014-04-30 23:31:00</td>\n",
       "      <td>40.7443</td>\n",
       "      <td>-73.9889</td>\n",
       "      <td>B02764</td>\n",
       "      <td>1</td>\n",
       "      <td>Midtown</td>\n",
       "    </tr>\n",
       "    <tr>\n",
       "      <th>564514</th>\n",
       "      <td>2014-04-30 23:32:00</td>\n",
       "      <td>40.6756</td>\n",
       "      <td>-73.9405</td>\n",
       "      <td>B02764</td>\n",
       "      <td>1</td>\n",
       "      <td>Crown Heights</td>\n",
       "    </tr>\n",
       "    <tr>\n",
       "      <th>564515</th>\n",
       "      <td>2014-04-30 23:48:00</td>\n",
       "      <td>40.6880</td>\n",
       "      <td>-73.9608</td>\n",
       "      <td>B02764</td>\n",
       "      <td>1</td>\n",
       "      <td>Clinton Hill</td>\n",
       "    </tr>\n",
       "  </tbody>\n",
       "</table>\n",
       "<p>551251 rows × 6 columns</p>\n",
       "</div>"
      ],
      "text/plain": [
       "                 Date/Time      Lat      Lon    Base  Pickups     Neighborhood\n",
       "0      2014-04-01 00:11:00  40.7690 -73.9549  B02512        1  Upper East Side\n",
       "2      2014-04-01 00:21:00  40.7316 -73.9873  B02512        1     East Village\n",
       "3      2014-04-01 00:28:00  40.7588 -73.9776  B02512        1          Midtown\n",
       "4      2014-04-01 00:33:00  40.7594 -73.9722  B02512        1          Midtown\n",
       "6      2014-04-01 00:39:00  40.7223 -73.9887  B02512        1  Lower East Side\n",
       "...                    ...      ...      ...     ...      ...              ...\n",
       "564511 2014-04-30 23:22:00  40.7640 -73.9744  B02764        1          Midtown\n",
       "564512 2014-04-30 23:26:00  40.7629 -73.9672  B02764        1  Upper East Side\n",
       "564513 2014-04-30 23:31:00  40.7443 -73.9889  B02764        1          Midtown\n",
       "564514 2014-04-30 23:32:00  40.6756 -73.9405  B02764        1    Crown Heights\n",
       "564515 2014-04-30 23:48:00  40.6880 -73.9608  B02764        1     Clinton Hill\n",
       "\n",
       "[551251 rows x 6 columns]"
      ]
     },
     "execution_count": 30,
     "metadata": {},
     "output_type": "execute_result"
    }
   ],
   "source": [
    "x_add"
   ]
  },
  {
   "cell_type": "code",
   "execution_count": 31,
   "metadata": {},
   "outputs": [
    {
     "data": {
      "text/plain": [
       "Midtown            91453\n",
       "Upper East Side    47900\n",
       "Chelsea            46122\n",
       "West Village       29000\n",
       "SoHo               26174\n",
       "                   ...  \n",
       "Broad Channel          1\n",
       "Neponsit               1\n",
       "Arverne                1\n",
       "Todt Hill              1\n",
       "Huguenot               1\n",
       "Name: Neighborhood, Length: 234, dtype: int64"
      ]
     },
     "execution_count": 31,
     "metadata": {},
     "output_type": "execute_result"
    }
   ],
   "source": [
    "x_add['Neighborhood'].value_counts()"
   ]
  },
  {
   "cell_type": "markdown",
   "metadata": {},
   "source": [
    "There are 234 listed neighborhood. One should check if these neighborhood are correct. But I will not do it for now."
   ]
  },
  {
   "cell_type": "code",
   "execution_count": null,
   "metadata": {},
   "outputs": [],
   "source": []
  },
  {
   "cell_type": "code",
   "execution_count": 32,
   "metadata": {},
   "outputs": [
    {
     "name": "stdout",
     "output_type": "stream",
     "text": [
      "551251\n"
     ]
    }
   ],
   "source": [
    "len_x_add = len(x_add.index)\n",
    "print(len_x_add)"
   ]
  },
  {
   "cell_type": "raw",
   "metadata": {},
   "source": [
    "from geopy.geocoders import Nominatim\n",
    "\n",
    "geolocator = Nominatim(user_agent=\"hms\")\n",
    "\n",
    "x_add_len = len(x_add.index)\n",
    "\n",
    "for index, row in x_add.iterrows():\n",
    "    getLat = row['Lat']\n",
    "    getLon = row['Lon']\n",
    "    \n",
    "    location = geolocator.reverse(\"{}, {}\".format(getLat, getLon))\n",
    "    \n",
    "    x_add['Neighborhood'][index] = location\n",
    "    \n",
    "    if index % 1000 == 0:\n",
    "        print('{} of {}'.format(index, x_add_len))\n",
    "\n",
    "# save dataFrame to csv after requesting the addresses!\n",
    "x_add.to_csv('datasets/april_data_addresses.csv', index=False)   "
   ]
  },
  {
   "cell_type": "raw",
   "metadata": {},
   "source": [
    "x_add.to_csv('datasets/april_data_addresses.csv', index=False)"
   ]
  },
  {
   "cell_type": "markdown",
   "metadata": {},
   "source": [
    "Cluster the data within time intervals of one hour."
   ]
  },
  {
   "cell_type": "code",
   "execution_count": 33,
   "metadata": {},
   "outputs": [],
   "source": [
    "x_cluster = x.resample('H', on='Date/Time').agg({'Pickups' : 'sum', 'Base': 'nunique', 'Lat': 'nunique', 'Lon': 'nunique'})"
   ]
  },
  {
   "cell_type": "code",
   "execution_count": 34,
   "metadata": {},
   "outputs": [
    {
     "data": {
      "text/html": [
       "<div>\n",
       "<style scoped>\n",
       "    .dataframe tbody tr th:only-of-type {\n",
       "        vertical-align: middle;\n",
       "    }\n",
       "\n",
       "    .dataframe tbody tr th {\n",
       "        vertical-align: top;\n",
       "    }\n",
       "\n",
       "    .dataframe thead th {\n",
       "        text-align: right;\n",
       "    }\n",
       "</style>\n",
       "<table border=\"1\" class=\"dataframe\">\n",
       "  <thead>\n",
       "    <tr style=\"text-align: right;\">\n",
       "      <th></th>\n",
       "      <th>Pickups</th>\n",
       "      <th>Base</th>\n",
       "      <th>Lat</th>\n",
       "      <th>Lon</th>\n",
       "    </tr>\n",
       "    <tr>\n",
       "      <th>Date/Time</th>\n",
       "      <th></th>\n",
       "      <th></th>\n",
       "      <th></th>\n",
       "      <th></th>\n",
       "    </tr>\n",
       "  </thead>\n",
       "  <tbody>\n",
       "    <tr>\n",
       "      <th>2014-04-01 00:00:00</th>\n",
       "      <td>138</td>\n",
       "      <td>5</td>\n",
       "      <td>118</td>\n",
       "      <td>125</td>\n",
       "    </tr>\n",
       "    <tr>\n",
       "      <th>2014-04-01 01:00:00</th>\n",
       "      <td>66</td>\n",
       "      <td>5</td>\n",
       "      <td>58</td>\n",
       "      <td>62</td>\n",
       "    </tr>\n",
       "    <tr>\n",
       "      <th>2014-04-01 02:00:00</th>\n",
       "      <td>53</td>\n",
       "      <td>5</td>\n",
       "      <td>47</td>\n",
       "      <td>49</td>\n",
       "    </tr>\n",
       "    <tr>\n",
       "      <th>2014-04-01 03:00:00</th>\n",
       "      <td>93</td>\n",
       "      <td>5</td>\n",
       "      <td>89</td>\n",
       "      <td>85</td>\n",
       "    </tr>\n",
       "    <tr>\n",
       "      <th>2014-04-01 04:00:00</th>\n",
       "      <td>166</td>\n",
       "      <td>5</td>\n",
       "      <td>148</td>\n",
       "      <td>148</td>\n",
       "    </tr>\n",
       "    <tr>\n",
       "      <th>...</th>\n",
       "      <td>...</td>\n",
       "      <td>...</td>\n",
       "      <td>...</td>\n",
       "      <td>...</td>\n",
       "    </tr>\n",
       "    <tr>\n",
       "      <th>2014-04-30 19:00:00</th>\n",
       "      <td>2834</td>\n",
       "      <td>5</td>\n",
       "      <td>861</td>\n",
       "      <td>741</td>\n",
       "    </tr>\n",
       "    <tr>\n",
       "      <th>2014-04-30 20:00:00</th>\n",
       "      <td>2766</td>\n",
       "      <td>5</td>\n",
       "      <td>844</td>\n",
       "      <td>723</td>\n",
       "    </tr>\n",
       "    <tr>\n",
       "      <th>2014-04-30 21:00:00</th>\n",
       "      <td>2308</td>\n",
       "      <td>5</td>\n",
       "      <td>784</td>\n",
       "      <td>665</td>\n",
       "    </tr>\n",
       "    <tr>\n",
       "      <th>2014-04-30 22:00:00</th>\n",
       "      <td>1778</td>\n",
       "      <td>5</td>\n",
       "      <td>717</td>\n",
       "      <td>618</td>\n",
       "    </tr>\n",
       "    <tr>\n",
       "      <th>2014-04-30 23:00:00</th>\n",
       "      <td>895</td>\n",
       "      <td>5</td>\n",
       "      <td>525</td>\n",
       "      <td>485</td>\n",
       "    </tr>\n",
       "  </tbody>\n",
       "</table>\n",
       "<p>720 rows × 4 columns</p>\n",
       "</div>"
      ],
      "text/plain": [
       "                     Pickups  Base  Lat  Lon\n",
       "Date/Time                                   \n",
       "2014-04-01 00:00:00      138     5  118  125\n",
       "2014-04-01 01:00:00       66     5   58   62\n",
       "2014-04-01 02:00:00       53     5   47   49\n",
       "2014-04-01 03:00:00       93     5   89   85\n",
       "2014-04-01 04:00:00      166     5  148  148\n",
       "...                      ...   ...  ...  ...\n",
       "2014-04-30 19:00:00     2834     5  861  741\n",
       "2014-04-30 20:00:00     2766     5  844  723\n",
       "2014-04-30 21:00:00     2308     5  784  665\n",
       "2014-04-30 22:00:00     1778     5  717  618\n",
       "2014-04-30 23:00:00      895     5  525  485\n",
       "\n",
       "[720 rows x 4 columns]"
      ]
     },
     "execution_count": 34,
     "metadata": {},
     "output_type": "execute_result"
    }
   ],
   "source": [
    "x_cluster"
   ]
  },
  {
   "cell_type": "code",
   "execution_count": 35,
   "metadata": {},
   "outputs": [
    {
     "data": {
      "image/png": "[encoded data removed]",
      "text/plain": [
       "<Figure size 432x288 with 1 Axes>"
      ]
     },
     "metadata": {
      "needs_background": "light"
     },
     "output_type": "display_data"
    }
   ],
   "source": [
    "x_cluster['Pickups'].plot();"
   ]
  },
  {
   "cell_type": "code",
   "execution_count": 36,
   "metadata": {},
   "outputs": [
    {
     "data": {
      "image/png": "[encoded data removed]",
      "text/plain": [
       "<Figure size 432x288 with 1 Axes>"
      ]
     },
     "metadata": {
      "needs_background": "light"
     },
     "output_type": "display_data"
    }
   ],
   "source": [
    "ax = x_cluster.loc['2014-04-01', 'Pickups'].plot()\n",
    "ax.set_ylabel('# of pickups')\n",
    "ax.set_xlabel('Time (hours)');"
   ]
  },
  {
   "cell_type": "code",
   "execution_count": 37,
   "metadata": {},
   "outputs": [
    {
     "name": "stdout",
     "output_type": "stream",
     "text": [
      "<class 'pandas.core.frame.DataFrame'>\n",
      "DatetimeIndex: 720 entries, 2014-04-01 00:00:00 to 2014-04-30 23:00:00\n",
      "Freq: H\n",
      "Data columns (total 4 columns):\n",
      " #   Column   Non-Null Count  Dtype\n",
      "---  ------   --------------  -----\n",
      " 0   Pickups  720 non-null    int64\n",
      " 1   Base     720 non-null    int64\n",
      " 2   Lat      720 non-null    int64\n",
      " 3   Lon      720 non-null    int64\n",
      "dtypes: int64(4)\n",
      "memory usage: 48.1 KB\n"
     ]
    }
   ],
   "source": [
    "x_cluster.info()"
   ]
  },
  {
   "cell_type": "code",
   "execution_count": 38,
   "metadata": {},
   "outputs": [
    {
     "data": {
      "text/html": [
       "<div>\n",
       "<style scoped>\n",
       "    .dataframe tbody tr th:only-of-type {\n",
       "        vertical-align: middle;\n",
       "    }\n",
       "\n",
       "    .dataframe tbody tr th {\n",
       "        vertical-align: top;\n",
       "    }\n",
       "\n",
       "    .dataframe thead th {\n",
       "        text-align: right;\n",
       "    }\n",
       "</style>\n",
       "<table border=\"1\" class=\"dataframe\">\n",
       "  <thead>\n",
       "    <tr style=\"text-align: right;\">\n",
       "      <th></th>\n",
       "      <th>Pickups</th>\n",
       "      <th>Base</th>\n",
       "      <th>Lat</th>\n",
       "      <th>Lon</th>\n",
       "    </tr>\n",
       "  </thead>\n",
       "  <tbody>\n",
       "    <tr>\n",
       "      <th>count</th>\n",
       "      <td>720.000000</td>\n",
       "      <td>720.000000</td>\n",
       "      <td>720.000000</td>\n",
       "      <td>720.000000</td>\n",
       "    </tr>\n",
       "    <tr>\n",
       "      <th>mean</th>\n",
       "      <td>784.050000</td>\n",
       "      <td>4.979167</td>\n",
       "      <td>461.730556</td>\n",
       "      <td>422.827778</td>\n",
       "    </tr>\n",
       "    <tr>\n",
       "      <th>std</th>\n",
       "      <td>538.648605</td>\n",
       "      <td>0.142925</td>\n",
       "      <td>214.670261</td>\n",
       "      <td>183.811094</td>\n",
       "    </tr>\n",
       "    <tr>\n",
       "      <th>min</th>\n",
       "      <td>45.000000</td>\n",
       "      <td>4.000000</td>\n",
       "      <td>42.000000</td>\n",
       "      <td>44.000000</td>\n",
       "    </tr>\n",
       "    <tr>\n",
       "      <th>25%</th>\n",
       "      <td>353.750000</td>\n",
       "      <td>5.000000</td>\n",
       "      <td>293.750000</td>\n",
       "      <td>281.000000</td>\n",
       "    </tr>\n",
       "    <tr>\n",
       "      <th>50%</th>\n",
       "      <td>682.500000</td>\n",
       "      <td>5.000000</td>\n",
       "      <td>484.000000</td>\n",
       "      <td>451.500000</td>\n",
       "    </tr>\n",
       "    <tr>\n",
       "      <th>75%</th>\n",
       "      <td>1076.500000</td>\n",
       "      <td>5.000000</td>\n",
       "      <td>630.000000</td>\n",
       "      <td>568.000000</td>\n",
       "    </tr>\n",
       "    <tr>\n",
       "      <th>max</th>\n",
       "      <td>3038.000000</td>\n",
       "      <td>5.000000</td>\n",
       "      <td>906.000000</td>\n",
       "      <td>776.000000</td>\n",
       "    </tr>\n",
       "  </tbody>\n",
       "</table>\n",
       "</div>"
      ],
      "text/plain": [
       "           Pickups        Base         Lat         Lon\n",
       "count   720.000000  720.000000  720.000000  720.000000\n",
       "mean    784.050000    4.979167  461.730556  422.827778\n",
       "std     538.648605    0.142925  214.670261  183.811094\n",
       "min      45.000000    4.000000   42.000000   44.000000\n",
       "25%     353.750000    5.000000  293.750000  281.000000\n",
       "50%     682.500000    5.000000  484.000000  451.500000\n",
       "75%    1076.500000    5.000000  630.000000  568.000000\n",
       "max    3038.000000    5.000000  906.000000  776.000000"
      ]
     },
     "execution_count": 38,
     "metadata": {},
     "output_type": "execute_result"
    }
   ],
   "source": [
    "x_cluster.describe()"
   ]
  },
  {
   "cell_type": "code",
   "execution_count": null,
   "metadata": {},
   "outputs": [],
   "source": []
  }
 ],
 "metadata": {
  "kernelspec": {
   "display_name": "Python 3",
   "language": "python",
   "name": "python3"
  },
  "language_info": {
   "codemirror_mode": {
    "name": "ipython",
    "version": 3
   },
   "file_extension": ".py",
   "mimetype": "text/x-python",
   "name": "python",
   "nbconvert_exporter": "python",
   "pygments_lexer": "ipython3",
   "version": "3.6.12"
  }
 },
 "nbformat": 4,
 "nbformat_minor": 4
}
