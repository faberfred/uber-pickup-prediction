{
 "cells": [
  {
   "cell_type": "markdown",
   "metadata": {},
   "source": [
    "## Uber demand forecasting for New York City\n",
    "This is a short example to demonstrate the different and subsequent steps of a machine learning project.<br>\n",
    "The goal of the project is to predict the demand of uber services in advance. "
   ]
  },
  {
   "cell_type": "markdown",
   "metadata": {},
   "source": [
    "### Setup"
   ]
  },
  {
   "cell_type": "markdown",
   "metadata": {},
   "source": [
    "Import necessary libraries."
   ]
  },
  {
   "cell_type": "code",
   "execution_count": 1,
   "metadata": {},
   "outputs": [],
   "source": [
    "import os\n",
    "import numpy as np\n",
    "import pandas as pd\n",
    "\n",
    "import json\n",
    "# from area import area\n",
    "from matplotlib import path\n",
    "\n",
    "%matplotlib inline\n",
    "from matplotlib import pyplot as plt"
   ]
  },
  {
   "cell_type": "markdown",
   "metadata": {},
   "source": [
    "Set the number of CPUs to be used."
   ]
  },
  {
   "cell_type": "code",
   "execution_count": 2,
   "metadata": {},
   "outputs": [],
   "source": [
    "# value 1 -> use 1 CPU\n",
    "# value 2 -> use 2 CPUs ...\n",
    "# value -1 -> use all CPUs\n",
    "# value -2 -> use all but one CPU ...\n",
    "n_cpus = -2"
   ]
  },
  {
   "cell_type": "markdown",
   "metadata": {},
   "source": [
    "### Get the data\n",
    "Get the data for the Uber pickups for NYC for the time period April to September 2014 from the following sources:\n",
    "```txt\n",
    "https://raw.githubusercontent.com/fivethirtyeight/uber-tlc-foil-response/master/uber-trip-data/uber-raw-data-apr14.csv\n",
    "https://raw.githubusercontent.com/fivethirtyeight/uber-tlc-foil-response/master/uber-trip-data/uber-raw-data-may14.csv\n",
    "https://raw.githubusercontent.com/fivethirtyeight/uber-tlc-foil-response/master/uber-trip-data/uber-raw-data-jun14.csv\n",
    "https://raw.githubusercontent.com/fivethirtyeight/uber-tlc-foil-response/master/uber-trip-data/uber-raw-data-jul14.csv\n",
    "https://raw.githubusercontent.com/fivethirtyeight/uber-tlc-foil-response/master/uber-trip-data/uber-raw-data-aug14.csv\n",
    "https://raw.githubusercontent.com/fivethirtyeight/uber-tlc-foil-response/master/uber-trip-data/uber-raw-data-sep14.csv\n",
    "\n",
    "```"
   ]
  },
  {
   "cell_type": "code",
   "execution_count": 3,
   "metadata": {
    "scrolled": true
   },
   "outputs": [],
   "source": [
    "import urllib\n",
    "\n",
    "# source from where to download the data\n",
    "SOURCE_ROOT = 'https://raw.githubusercontent.com/fivethirtyeight/uber-tlc-foil-response/master/uber-trip-data/'\n",
    "\n",
    "# dictionary of the files to be downloaded\n",
    "month_url = {'april_data' :'uber-raw-data-apr14.csv', 'may_data' :'uber-raw-data-may14.csv',\n",
    "            'june_data' :'uber-raw-data-jun14.csv', 'july_data' :'uber-raw-data-jul14.csv',\n",
    "            'august_data' :'uber-raw-data-aug14.csv', 'september_data' :'uber-raw-data-sep14.csv'}\n",
    "\n",
    "# path to store the downloaded data\n",
    "SAVING_PATH = os.path.join('datasets')\n",
    "\n",
    "# function to fetch the data\n",
    "def download_and_save_data(data_source_url = SOURCE_ROOT, data_path = SAVING_PATH):\n",
    "    # make data directory if not existing\n",
    "    if not os.path.isdir(data_path):\n",
    "        os.makedirs(data_path)\n",
    "    \n",
    "        # get data csv for each month\n",
    "        for month in month_url:\n",
    "            data_url = ''\n",
    "            file_name = month_url[month]\n",
    "\n",
    "            # status print\n",
    "            print('download and save {}'.format(file_name))\n",
    "\n",
    "            # setup the data url\n",
    "            data_url = data_source_url + file_name\n",
    "\n",
    "            # specify the douwnload file\n",
    "            csv_path = os.path.join(data_path, file_name)\n",
    "\n",
    "            # receive the data from the web\n",
    "            urllib.request.urlretrieve(data_url, csv_path)\n",
    "\n",
    "# call the function to download and save the data\n",
    "download_and_save_data()"
   ]
  },
  {
   "cell_type": "markdown",
   "metadata": {},
   "source": [
    "Convert the `CSV` files into a pandas `DataFrame` files and store them in a dictionary."
   ]
  },
  {
   "cell_type": "code",
   "execution_count": 4,
   "metadata": {},
   "outputs": [],
   "source": [
    "def load_csv_data(csv_path):\n",
    "    return pd.read_csv(csv_path)"
   ]
  },
  {
   "cell_type": "code",
   "execution_count": 5,
   "metadata": {},
   "outputs": [],
   "source": [
    "data_dict = {}\n",
    "\n",
    "for month in month_url:\n",
    "    csv_filename = month_url[month]\n",
    "    csv_path = os.path.join(SAVING_PATH, csv_filename)\n",
    "    pd_filename = month\n",
    "    data_dict.update({pd_filename : load_csv_data(csv_path)})"
   ]
  },
  {
   "cell_type": "code",
   "execution_count": 6,
   "metadata": {},
   "outputs": [
    {
     "data": {
      "text/plain": [
       "dict_keys(['april_data', 'may_data', 'june_data', 'july_data', 'august_data', 'september_data'])"
      ]
     },
     "execution_count": 6,
     "metadata": {},
     "output_type": "execute_result"
    }
   ],
   "source": [
    "data_dict.keys()"
   ]
  },
  {
   "cell_type": "markdown",
   "metadata": {},
   "source": [
    "Load data frames"
   ]
  },
  {
   "cell_type": "code",
   "execution_count": 7,
   "metadata": {},
   "outputs": [],
   "source": [
    "TRAIN_ON_WHOLE_DATA = True"
   ]
  },
  {
   "cell_type": "code",
   "execution_count": 8,
   "metadata": {},
   "outputs": [],
   "source": [
    "if TRAIN_ON_WHOLE_DATA:\n",
    "    frames = [data_dict['april_data'], data_dict['may_data'], \n",
    "              data_dict['june_data'], data_dict['july_data'], data_dict['august_data']]\n",
    "    x = pd.concat(frames, ignore_index=True)\n",
    "else:\n",
    "    x = data_dict['april_data']"
   ]
  },
  {
   "cell_type": "code",
   "execution_count": 9,
   "metadata": {},
   "outputs": [
    {
     "data": {
      "text/html": [
       "<div>\n",
       "<style scoped>\n",
       "    .dataframe tbody tr th:only-of-type {\n",
       "        vertical-align: middle;\n",
       "    }\n",
       "\n",
       "    .dataframe tbody tr th {\n",
       "        vertical-align: top;\n",
       "    }\n",
       "\n",
       "    .dataframe thead th {\n",
       "        text-align: right;\n",
       "    }\n",
       "</style>\n",
       "<table border=\"1\" class=\"dataframe\">\n",
       "  <thead>\n",
       "    <tr style=\"text-align: right;\">\n",
       "      <th></th>\n",
       "      <th>Date/Time</th>\n",
       "      <th>Lat</th>\n",
       "      <th>Lon</th>\n",
       "      <th>Base</th>\n",
       "    </tr>\n",
       "  </thead>\n",
       "  <tbody>\n",
       "    <tr>\n",
       "      <th>0</th>\n",
       "      <td>4/1/2014 0:11:00</td>\n",
       "      <td>40.7690</td>\n",
       "      <td>-73.9549</td>\n",
       "      <td>B02512</td>\n",
       "    </tr>\n",
       "    <tr>\n",
       "      <th>1</th>\n",
       "      <td>4/1/2014 0:17:00</td>\n",
       "      <td>40.7267</td>\n",
       "      <td>-74.0345</td>\n",
       "      <td>B02512</td>\n",
       "    </tr>\n",
       "    <tr>\n",
       "      <th>2</th>\n",
       "      <td>4/1/2014 0:21:00</td>\n",
       "      <td>40.7316</td>\n",
       "      <td>-73.9873</td>\n",
       "      <td>B02512</td>\n",
       "    </tr>\n",
       "    <tr>\n",
       "      <th>3</th>\n",
       "      <td>4/1/2014 0:28:00</td>\n",
       "      <td>40.7588</td>\n",
       "      <td>-73.9776</td>\n",
       "      <td>B02512</td>\n",
       "    </tr>\n",
       "    <tr>\n",
       "      <th>4</th>\n",
       "      <td>4/1/2014 0:33:00</td>\n",
       "      <td>40.7594</td>\n",
       "      <td>-73.9722</td>\n",
       "      <td>B02512</td>\n",
       "    </tr>\n",
       "    <tr>\n",
       "      <th>...</th>\n",
       "      <td>...</td>\n",
       "      <td>...</td>\n",
       "      <td>...</td>\n",
       "      <td>...</td>\n",
       "    </tr>\n",
       "    <tr>\n",
       "      <th>3506186</th>\n",
       "      <td>8/31/2014 23:55:00</td>\n",
       "      <td>40.7552</td>\n",
       "      <td>-73.9753</td>\n",
       "      <td>B02764</td>\n",
       "    </tr>\n",
       "    <tr>\n",
       "      <th>3506187</th>\n",
       "      <td>8/31/2014 23:55:00</td>\n",
       "      <td>40.7552</td>\n",
       "      <td>-73.9753</td>\n",
       "      <td>B02764</td>\n",
       "    </tr>\n",
       "    <tr>\n",
       "      <th>3506188</th>\n",
       "      <td>8/31/2014 23:55:00</td>\n",
       "      <td>40.7617</td>\n",
       "      <td>-73.9788</td>\n",
       "      <td>B02764</td>\n",
       "    </tr>\n",
       "    <tr>\n",
       "      <th>3506189</th>\n",
       "      <td>8/31/2014 23:59:00</td>\n",
       "      <td>40.7395</td>\n",
       "      <td>-73.9889</td>\n",
       "      <td>B02764</td>\n",
       "    </tr>\n",
       "    <tr>\n",
       "      <th>3506190</th>\n",
       "      <td>8/31/2014 23:59:00</td>\n",
       "      <td>40.7270</td>\n",
       "      <td>-73.9802</td>\n",
       "      <td>B02764</td>\n",
       "    </tr>\n",
       "  </tbody>\n",
       "</table>\n",
       "<p>3506191 rows × 4 columns</p>\n",
       "</div>"
      ],
      "text/plain": [
       "                  Date/Time      Lat      Lon    Base\n",
       "0          4/1/2014 0:11:00  40.7690 -73.9549  B02512\n",
       "1          4/1/2014 0:17:00  40.7267 -74.0345  B02512\n",
       "2          4/1/2014 0:21:00  40.7316 -73.9873  B02512\n",
       "3          4/1/2014 0:28:00  40.7588 -73.9776  B02512\n",
       "4          4/1/2014 0:33:00  40.7594 -73.9722  B02512\n",
       "...                     ...      ...      ...     ...\n",
       "3506186  8/31/2014 23:55:00  40.7552 -73.9753  B02764\n",
       "3506187  8/31/2014 23:55:00  40.7552 -73.9753  B02764\n",
       "3506188  8/31/2014 23:55:00  40.7617 -73.9788  B02764\n",
       "3506189  8/31/2014 23:59:00  40.7395 -73.9889  B02764\n",
       "3506190  8/31/2014 23:59:00  40.7270 -73.9802  B02764\n",
       "\n",
       "[3506191 rows x 4 columns]"
      ]
     },
     "execution_count": 9,
     "metadata": {},
     "output_type": "execute_result"
    }
   ],
   "source": [
    "x"
   ]
  },
  {
   "cell_type": "markdown",
   "metadata": {},
   "source": [
    "## Analise the raw data"
   ]
  },
  {
   "cell_type": "markdown",
   "metadata": {},
   "source": [
    "Print the first ten data rows."
   ]
  },
  {
   "cell_type": "code",
   "execution_count": 10,
   "metadata": {},
   "outputs": [
    {
     "data": {
      "text/html": [
       "<div>\n",
       "<style scoped>\n",
       "    .dataframe tbody tr th:only-of-type {\n",
       "        vertical-align: middle;\n",
       "    }\n",
       "\n",
       "    .dataframe tbody tr th {\n",
       "        vertical-align: top;\n",
       "    }\n",
       "\n",
       "    .dataframe thead th {\n",
       "        text-align: right;\n",
       "    }\n",
       "</style>\n",
       "<table border=\"1\" class=\"dataframe\">\n",
       "  <thead>\n",
       "    <tr style=\"text-align: right;\">\n",
       "      <th></th>\n",
       "      <th>Date/Time</th>\n",
       "      <th>Lat</th>\n",
       "      <th>Lon</th>\n",
       "      <th>Base</th>\n",
       "    </tr>\n",
       "  </thead>\n",
       "  <tbody>\n",
       "    <tr>\n",
       "      <th>0</th>\n",
       "      <td>4/1/2014 0:11:00</td>\n",
       "      <td>40.7690</td>\n",
       "      <td>-73.9549</td>\n",
       "      <td>B02512</td>\n",
       "    </tr>\n",
       "    <tr>\n",
       "      <th>1</th>\n",
       "      <td>4/1/2014 0:17:00</td>\n",
       "      <td>40.7267</td>\n",
       "      <td>-74.0345</td>\n",
       "      <td>B02512</td>\n",
       "    </tr>\n",
       "    <tr>\n",
       "      <th>2</th>\n",
       "      <td>4/1/2014 0:21:00</td>\n",
       "      <td>40.7316</td>\n",
       "      <td>-73.9873</td>\n",
       "      <td>B02512</td>\n",
       "    </tr>\n",
       "    <tr>\n",
       "      <th>3</th>\n",
       "      <td>4/1/2014 0:28:00</td>\n",
       "      <td>40.7588</td>\n",
       "      <td>-73.9776</td>\n",
       "      <td>B02512</td>\n",
       "    </tr>\n",
       "    <tr>\n",
       "      <th>4</th>\n",
       "      <td>4/1/2014 0:33:00</td>\n",
       "      <td>40.7594</td>\n",
       "      <td>-73.9722</td>\n",
       "      <td>B02512</td>\n",
       "    </tr>\n",
       "    <tr>\n",
       "      <th>5</th>\n",
       "      <td>4/1/2014 0:33:00</td>\n",
       "      <td>40.7383</td>\n",
       "      <td>-74.0403</td>\n",
       "      <td>B02512</td>\n",
       "    </tr>\n",
       "    <tr>\n",
       "      <th>6</th>\n",
       "      <td>4/1/2014 0:39:00</td>\n",
       "      <td>40.7223</td>\n",
       "      <td>-73.9887</td>\n",
       "      <td>B02512</td>\n",
       "    </tr>\n",
       "    <tr>\n",
       "      <th>7</th>\n",
       "      <td>4/1/2014 0:45:00</td>\n",
       "      <td>40.7620</td>\n",
       "      <td>-73.9790</td>\n",
       "      <td>B02512</td>\n",
       "    </tr>\n",
       "    <tr>\n",
       "      <th>8</th>\n",
       "      <td>4/1/2014 0:55:00</td>\n",
       "      <td>40.7524</td>\n",
       "      <td>-73.9960</td>\n",
       "      <td>B02512</td>\n",
       "    </tr>\n",
       "    <tr>\n",
       "      <th>9</th>\n",
       "      <td>4/1/2014 1:01:00</td>\n",
       "      <td>40.7575</td>\n",
       "      <td>-73.9846</td>\n",
       "      <td>B02512</td>\n",
       "    </tr>\n",
       "  </tbody>\n",
       "</table>\n",
       "</div>"
      ],
      "text/plain": [
       "          Date/Time      Lat      Lon    Base\n",
       "0  4/1/2014 0:11:00  40.7690 -73.9549  B02512\n",
       "1  4/1/2014 0:17:00  40.7267 -74.0345  B02512\n",
       "2  4/1/2014 0:21:00  40.7316 -73.9873  B02512\n",
       "3  4/1/2014 0:28:00  40.7588 -73.9776  B02512\n",
       "4  4/1/2014 0:33:00  40.7594 -73.9722  B02512\n",
       "5  4/1/2014 0:33:00  40.7383 -74.0403  B02512\n",
       "6  4/1/2014 0:39:00  40.7223 -73.9887  B02512\n",
       "7  4/1/2014 0:45:00  40.7620 -73.9790  B02512\n",
       "8  4/1/2014 0:55:00  40.7524 -73.9960  B02512\n",
       "9  4/1/2014 1:01:00  40.7575 -73.9846  B02512"
      ]
     },
     "execution_count": 10,
     "metadata": {},
     "output_type": "execute_result"
    }
   ],
   "source": [
    "x.head(10)"
   ]
  },
  {
   "cell_type": "markdown",
   "metadata": {},
   "source": [
    "The data consists of four columns with five parameters:\n",
    "\n",
    "`Data`: The date of the Uber pickup.\n",
    "<br>\n",
    "`Time`: The time of the Uber pickup.\n",
    "<br>\n",
    "`Lat`: The latitude of the Uber pickup.\n",
    "<br>\n",
    "`Lon`: The longitude of the Uber pickup.\n",
    "<br>\n",
    "`Base`: The TLC base company code affiliated with the Uber pickup."
   ]
  },
  {
   "cell_type": "markdown",
   "metadata": {},
   "source": [
    "Check the amount and completeness of the data point."
   ]
  },
  {
   "cell_type": "code",
   "execution_count": 11,
   "metadata": {},
   "outputs": [
    {
     "name": "stdout",
     "output_type": "stream",
     "text": [
      "<class 'pandas.core.frame.DataFrame'>\n",
      "RangeIndex: 3506191 entries, 0 to 3506190\n",
      "Data columns (total 4 columns):\n",
      " #   Column     Dtype  \n",
      "---  ------     -----  \n",
      " 0   Date/Time  object \n",
      " 1   Lat        float64\n",
      " 2   Lon        float64\n",
      " 3   Base       object \n",
      "dtypes: float64(2), object(2)\n",
      "memory usage: 107.0+ MB\n"
     ]
    }
   ],
   "source": [
    "x.info()"
   ]
  },
  {
   "cell_type": "markdown",
   "metadata": {},
   "source": [
    "There are 3.506.191 entries with no missing data point.\n",
    "\n",
    "`Lon` ans `Lat` are of *float64* data type. These values can be used after scaling them (see later) without further preprocessing. \n",
    "\n",
    "`Date/Time` is of type *object* and therefore needs to be converted into a time series format.\n",
    "\n",
    "`Base` is also of type *object*. We will use one-hot-encoding here."
   ]
  },
  {
   "cell_type": "markdown",
   "metadata": {},
   "source": [
    "Lets have a closer look at the `Base` parameter."
   ]
  },
  {
   "cell_type": "code",
   "execution_count": 12,
   "metadata": {},
   "outputs": [
    {
     "data": {
      "text/plain": [
       "B02598    1152513\n",
       "B02617    1081158\n",
       "B02682    1015651\n",
       "B02512     171303\n",
       "B02764      85566\n",
       "Name: Base, dtype: int64"
      ]
     },
     "execution_count": 12,
     "metadata": {},
     "output_type": "execute_result"
    }
   ],
   "source": [
    "x['Base'].value_counts()"
   ]
  },
  {
   "cell_type": "markdown",
   "metadata": {},
   "source": [
    "The `Base` parameter has five different values."
   ]
  },
  {
   "cell_type": "markdown",
   "metadata": {},
   "source": [
    "## Preprocess the data"
   ]
  },
  {
   "cell_type": "markdown",
   "metadata": {},
   "source": [
    "### Add the label parameter\n",
    "Add a new parameter `pickups` to count the number of pickups. **This will be the label!**"
   ]
  },
  {
   "cell_type": "code",
   "execution_count": 13,
   "metadata": {},
   "outputs": [],
   "source": [
    "x['Pickups'] = 1"
   ]
  },
  {
   "cell_type": "code",
   "execution_count": 14,
   "metadata": {},
   "outputs": [
    {
     "data": {
      "text/html": [
       "<div>\n",
       "<style scoped>\n",
       "    .dataframe tbody tr th:only-of-type {\n",
       "        vertical-align: middle;\n",
       "    }\n",
       "\n",
       "    .dataframe tbody tr th {\n",
       "        vertical-align: top;\n",
       "    }\n",
       "\n",
       "    .dataframe thead th {\n",
       "        text-align: right;\n",
       "    }\n",
       "</style>\n",
       "<table border=\"1\" class=\"dataframe\">\n",
       "  <thead>\n",
       "    <tr style=\"text-align: right;\">\n",
       "      <th></th>\n",
       "      <th>Date/Time</th>\n",
       "      <th>Lat</th>\n",
       "      <th>Lon</th>\n",
       "      <th>Base</th>\n",
       "      <th>Pickups</th>\n",
       "    </tr>\n",
       "  </thead>\n",
       "  <tbody>\n",
       "    <tr>\n",
       "      <th>0</th>\n",
       "      <td>4/1/2014 0:11:00</td>\n",
       "      <td>40.7690</td>\n",
       "      <td>-73.9549</td>\n",
       "      <td>B02512</td>\n",
       "      <td>1</td>\n",
       "    </tr>\n",
       "    <tr>\n",
       "      <th>1</th>\n",
       "      <td>4/1/2014 0:17:00</td>\n",
       "      <td>40.7267</td>\n",
       "      <td>-74.0345</td>\n",
       "      <td>B02512</td>\n",
       "      <td>1</td>\n",
       "    </tr>\n",
       "    <tr>\n",
       "      <th>2</th>\n",
       "      <td>4/1/2014 0:21:00</td>\n",
       "      <td>40.7316</td>\n",
       "      <td>-73.9873</td>\n",
       "      <td>B02512</td>\n",
       "      <td>1</td>\n",
       "    </tr>\n",
       "    <tr>\n",
       "      <th>3</th>\n",
       "      <td>4/1/2014 0:28:00</td>\n",
       "      <td>40.7588</td>\n",
       "      <td>-73.9776</td>\n",
       "      <td>B02512</td>\n",
       "      <td>1</td>\n",
       "    </tr>\n",
       "    <tr>\n",
       "      <th>4</th>\n",
       "      <td>4/1/2014 0:33:00</td>\n",
       "      <td>40.7594</td>\n",
       "      <td>-73.9722</td>\n",
       "      <td>B02512</td>\n",
       "      <td>1</td>\n",
       "    </tr>\n",
       "  </tbody>\n",
       "</table>\n",
       "</div>"
      ],
      "text/plain": [
       "          Date/Time      Lat      Lon    Base  Pickups\n",
       "0  4/1/2014 0:11:00  40.7690 -73.9549  B02512        1\n",
       "1  4/1/2014 0:17:00  40.7267 -74.0345  B02512        1\n",
       "2  4/1/2014 0:21:00  40.7316 -73.9873  B02512        1\n",
       "3  4/1/2014 0:28:00  40.7588 -73.9776  B02512        1\n",
       "4  4/1/2014 0:33:00  40.7594 -73.9722  B02512        1"
      ]
     },
     "execution_count": 14,
     "metadata": {},
     "output_type": "execute_result"
    }
   ],
   "source": [
    "x.head()"
   ]
  },
  {
   "cell_type": "markdown",
   "metadata": {},
   "source": [
    "### Add new parameter `Neighborhood` to cluster the longitude and latitude into spatial clusters \n",
    "Add an additional column for a new parameter called *neighborhood*. This column stores the neighborhoods of NYC generated out of the latitude and longitude values."
   ]
  },
  {
   "cell_type": "code",
   "execution_count": 15,
   "metadata": {},
   "outputs": [],
   "source": [
    "x_add = x.copy()"
   ]
  },
  {
   "cell_type": "code",
   "execution_count": 16,
   "metadata": {},
   "outputs": [],
   "source": [
    "x_add['Neighborhood'] = np.zeros(len(x_add))"
   ]
  },
  {
   "cell_type": "code",
   "execution_count": 17,
   "metadata": {},
   "outputs": [
    {
     "data": {
      "text/html": [
       "<div>\n",
       "<style scoped>\n",
       "    .dataframe tbody tr th:only-of-type {\n",
       "        vertical-align: middle;\n",
       "    }\n",
       "\n",
       "    .dataframe tbody tr th {\n",
       "        vertical-align: top;\n",
       "    }\n",
       "\n",
       "    .dataframe thead th {\n",
       "        text-align: right;\n",
       "    }\n",
       "</style>\n",
       "<table border=\"1\" class=\"dataframe\">\n",
       "  <thead>\n",
       "    <tr style=\"text-align: right;\">\n",
       "      <th></th>\n",
       "      <th>Date/Time</th>\n",
       "      <th>Lat</th>\n",
       "      <th>Lon</th>\n",
       "      <th>Base</th>\n",
       "      <th>Pickups</th>\n",
       "      <th>Neighborhood</th>\n",
       "    </tr>\n",
       "  </thead>\n",
       "  <tbody>\n",
       "    <tr>\n",
       "      <th>0</th>\n",
       "      <td>4/1/2014 0:11:00</td>\n",
       "      <td>40.7690</td>\n",
       "      <td>-73.9549</td>\n",
       "      <td>B02512</td>\n",
       "      <td>1</td>\n",
       "      <td>0.0</td>\n",
       "    </tr>\n",
       "    <tr>\n",
       "      <th>1</th>\n",
       "      <td>4/1/2014 0:17:00</td>\n",
       "      <td>40.7267</td>\n",
       "      <td>-74.0345</td>\n",
       "      <td>B02512</td>\n",
       "      <td>1</td>\n",
       "      <td>0.0</td>\n",
       "    </tr>\n",
       "    <tr>\n",
       "      <th>2</th>\n",
       "      <td>4/1/2014 0:21:00</td>\n",
       "      <td>40.7316</td>\n",
       "      <td>-73.9873</td>\n",
       "      <td>B02512</td>\n",
       "      <td>1</td>\n",
       "      <td>0.0</td>\n",
       "    </tr>\n",
       "    <tr>\n",
       "      <th>3</th>\n",
       "      <td>4/1/2014 0:28:00</td>\n",
       "      <td>40.7588</td>\n",
       "      <td>-73.9776</td>\n",
       "      <td>B02512</td>\n",
       "      <td>1</td>\n",
       "      <td>0.0</td>\n",
       "    </tr>\n",
       "    <tr>\n",
       "      <th>4</th>\n",
       "      <td>4/1/2014 0:33:00</td>\n",
       "      <td>40.7594</td>\n",
       "      <td>-73.9722</td>\n",
       "      <td>B02512</td>\n",
       "      <td>1</td>\n",
       "      <td>0.0</td>\n",
       "    </tr>\n",
       "    <tr>\n",
       "      <th>...</th>\n",
       "      <td>...</td>\n",
       "      <td>...</td>\n",
       "      <td>...</td>\n",
       "      <td>...</td>\n",
       "      <td>...</td>\n",
       "      <td>...</td>\n",
       "    </tr>\n",
       "    <tr>\n",
       "      <th>3506186</th>\n",
       "      <td>8/31/2014 23:55:00</td>\n",
       "      <td>40.7552</td>\n",
       "      <td>-73.9753</td>\n",
       "      <td>B02764</td>\n",
       "      <td>1</td>\n",
       "      <td>0.0</td>\n",
       "    </tr>\n",
       "    <tr>\n",
       "      <th>3506187</th>\n",
       "      <td>8/31/2014 23:55:00</td>\n",
       "      <td>40.7552</td>\n",
       "      <td>-73.9753</td>\n",
       "      <td>B02764</td>\n",
       "      <td>1</td>\n",
       "      <td>0.0</td>\n",
       "    </tr>\n",
       "    <tr>\n",
       "      <th>3506188</th>\n",
       "      <td>8/31/2014 23:55:00</td>\n",
       "      <td>40.7617</td>\n",
       "      <td>-73.9788</td>\n",
       "      <td>B02764</td>\n",
       "      <td>1</td>\n",
       "      <td>0.0</td>\n",
       "    </tr>\n",
       "    <tr>\n",
       "      <th>3506189</th>\n",
       "      <td>8/31/2014 23:59:00</td>\n",
       "      <td>40.7395</td>\n",
       "      <td>-73.9889</td>\n",
       "      <td>B02764</td>\n",
       "      <td>1</td>\n",
       "      <td>0.0</td>\n",
       "    </tr>\n",
       "    <tr>\n",
       "      <th>3506190</th>\n",
       "      <td>8/31/2014 23:59:00</td>\n",
       "      <td>40.7270</td>\n",
       "      <td>-73.9802</td>\n",
       "      <td>B02764</td>\n",
       "      <td>1</td>\n",
       "      <td>0.0</td>\n",
       "    </tr>\n",
       "  </tbody>\n",
       "</table>\n",
       "<p>3506191 rows × 6 columns</p>\n",
       "</div>"
      ],
      "text/plain": [
       "                  Date/Time      Lat      Lon    Base  Pickups  Neighborhood\n",
       "0          4/1/2014 0:11:00  40.7690 -73.9549  B02512        1           0.0\n",
       "1          4/1/2014 0:17:00  40.7267 -74.0345  B02512        1           0.0\n",
       "2          4/1/2014 0:21:00  40.7316 -73.9873  B02512        1           0.0\n",
       "3          4/1/2014 0:28:00  40.7588 -73.9776  B02512        1           0.0\n",
       "4          4/1/2014 0:33:00  40.7594 -73.9722  B02512        1           0.0\n",
       "...                     ...      ...      ...     ...      ...           ...\n",
       "3506186  8/31/2014 23:55:00  40.7552 -73.9753  B02764        1           0.0\n",
       "3506187  8/31/2014 23:55:00  40.7552 -73.9753  B02764        1           0.0\n",
       "3506188  8/31/2014 23:55:00  40.7617 -73.9788  B02764        1           0.0\n",
       "3506189  8/31/2014 23:59:00  40.7395 -73.9889  B02764        1           0.0\n",
       "3506190  8/31/2014 23:59:00  40.7270 -73.9802  B02764        1           0.0\n",
       "\n",
       "[3506191 rows x 6 columns]"
      ]
     },
     "execution_count": 17,
     "metadata": {},
     "output_type": "execute_result"
    }
   ],
   "source": [
    "x_add"
   ]
  },
  {
   "cell_type": "code",
   "execution_count": null,
   "metadata": {},
   "outputs": [],
   "source": []
  },
  {
   "cell_type": "markdown",
   "metadata": {},
   "source": [
    "Load a JSON file with the *latitude / longitude* to *neighborhood* correlation."
   ]
  },
  {
   "cell_type": "code",
   "execution_count": 18,
   "metadata": {},
   "outputs": [],
   "source": [
    "geofile = json.load(open(\"NY_neighborhoods.geojson\"))"
   ]
  },
  {
   "cell_type": "code",
   "execution_count": 19,
   "metadata": {},
   "outputs": [],
   "source": [
    "geo_points = list(zip(x_add['Lon'], x_add['Lat']))"
   ]
  },
  {
   "cell_type": "code",
   "execution_count": 20,
   "metadata": {},
   "outputs": [],
   "source": [
    "if os.path.isfile('datasets/training_data_neighborhood.csv'):\n",
    "    x_add = load_csv_data('datasets/training_data_neighborhood.csv')\n",
    "    \n",
    "else:\n",
    "    for feature in geofile['features']:\n",
    "        coords = feature['geometry']['coordinates'][0]\n",
    "        p = path.Path(coords)\n",
    "        inds = p.contains_points(geo_points)\n",
    "        list_neighborhoods = [str(feature['properties']['neighborhood'])]*np.sum(inds)\n",
    "        x_add.loc[x_add.index[inds], 'Neighborhood'] = list_neighborhoods"
   ]
  },
  {
   "cell_type": "code",
   "execution_count": 21,
   "metadata": {},
   "outputs": [
    {
     "data": {
      "text/html": [
       "<div>\n",
       "<style scoped>\n",
       "    .dataframe tbody tr th:only-of-type {\n",
       "        vertical-align: middle;\n",
       "    }\n",
       "\n",
       "    .dataframe tbody tr th {\n",
       "        vertical-align: top;\n",
       "    }\n",
       "\n",
       "    .dataframe thead th {\n",
       "        text-align: right;\n",
       "    }\n",
       "</style>\n",
       "<table border=\"1\" class=\"dataframe\">\n",
       "  <thead>\n",
       "    <tr style=\"text-align: right;\">\n",
       "      <th></th>\n",
       "      <th>Date/Time</th>\n",
       "      <th>Lat</th>\n",
       "      <th>Lon</th>\n",
       "      <th>Base</th>\n",
       "      <th>Pickups</th>\n",
       "      <th>Neighborhood</th>\n",
       "    </tr>\n",
       "  </thead>\n",
       "  <tbody>\n",
       "    <tr>\n",
       "      <th>0</th>\n",
       "      <td>4/1/2014 0:11:00</td>\n",
       "      <td>40.7690</td>\n",
       "      <td>-73.9549</td>\n",
       "      <td>B02512</td>\n",
       "      <td>1</td>\n",
       "      <td>Upper East Side</td>\n",
       "    </tr>\n",
       "    <tr>\n",
       "      <th>1</th>\n",
       "      <td>4/1/2014 0:21:00</td>\n",
       "      <td>40.7316</td>\n",
       "      <td>-73.9873</td>\n",
       "      <td>B02512</td>\n",
       "      <td>1</td>\n",
       "      <td>East Village</td>\n",
       "    </tr>\n",
       "    <tr>\n",
       "      <th>2</th>\n",
       "      <td>4/1/2014 0:28:00</td>\n",
       "      <td>40.7588</td>\n",
       "      <td>-73.9776</td>\n",
       "      <td>B02512</td>\n",
       "      <td>1</td>\n",
       "      <td>Midtown</td>\n",
       "    </tr>\n",
       "    <tr>\n",
       "      <th>3</th>\n",
       "      <td>4/1/2014 0:33:00</td>\n",
       "      <td>40.7594</td>\n",
       "      <td>-73.9722</td>\n",
       "      <td>B02512</td>\n",
       "      <td>1</td>\n",
       "      <td>Midtown</td>\n",
       "    </tr>\n",
       "    <tr>\n",
       "      <th>4</th>\n",
       "      <td>4/1/2014 0:39:00</td>\n",
       "      <td>40.7223</td>\n",
       "      <td>-73.9887</td>\n",
       "      <td>B02512</td>\n",
       "      <td>1</td>\n",
       "      <td>Lower East Side</td>\n",
       "    </tr>\n",
       "    <tr>\n",
       "      <th>...</th>\n",
       "      <td>...</td>\n",
       "      <td>...</td>\n",
       "      <td>...</td>\n",
       "      <td>...</td>\n",
       "      <td>...</td>\n",
       "      <td>...</td>\n",
       "    </tr>\n",
       "    <tr>\n",
       "      <th>3412742</th>\n",
       "      <td>8/31/2014 23:55:00</td>\n",
       "      <td>40.7552</td>\n",
       "      <td>-73.9753</td>\n",
       "      <td>B02764</td>\n",
       "      <td>1</td>\n",
       "      <td>Midtown</td>\n",
       "    </tr>\n",
       "    <tr>\n",
       "      <th>3412743</th>\n",
       "      <td>8/31/2014 23:55:00</td>\n",
       "      <td>40.7552</td>\n",
       "      <td>-73.9753</td>\n",
       "      <td>B02764</td>\n",
       "      <td>1</td>\n",
       "      <td>Midtown</td>\n",
       "    </tr>\n",
       "    <tr>\n",
       "      <th>3412744</th>\n",
       "      <td>8/31/2014 23:55:00</td>\n",
       "      <td>40.7617</td>\n",
       "      <td>-73.9788</td>\n",
       "      <td>B02764</td>\n",
       "      <td>1</td>\n",
       "      <td>Midtown</td>\n",
       "    </tr>\n",
       "    <tr>\n",
       "      <th>3412745</th>\n",
       "      <td>8/31/2014 23:59:00</td>\n",
       "      <td>40.7395</td>\n",
       "      <td>-73.9889</td>\n",
       "      <td>B02764</td>\n",
       "      <td>1</td>\n",
       "      <td>Flatiron District</td>\n",
       "    </tr>\n",
       "    <tr>\n",
       "      <th>3412746</th>\n",
       "      <td>8/31/2014 23:59:00</td>\n",
       "      <td>40.7270</td>\n",
       "      <td>-73.9802</td>\n",
       "      <td>B02764</td>\n",
       "      <td>1</td>\n",
       "      <td>East Village</td>\n",
       "    </tr>\n",
       "  </tbody>\n",
       "</table>\n",
       "<p>3412747 rows × 6 columns</p>\n",
       "</div>"
      ],
      "text/plain": [
       "                  Date/Time      Lat      Lon    Base  Pickups  \\\n",
       "0          4/1/2014 0:11:00  40.7690 -73.9549  B02512        1   \n",
       "1          4/1/2014 0:21:00  40.7316 -73.9873  B02512        1   \n",
       "2          4/1/2014 0:28:00  40.7588 -73.9776  B02512        1   \n",
       "3          4/1/2014 0:33:00  40.7594 -73.9722  B02512        1   \n",
       "4          4/1/2014 0:39:00  40.7223 -73.9887  B02512        1   \n",
       "...                     ...      ...      ...     ...      ...   \n",
       "3412742  8/31/2014 23:55:00  40.7552 -73.9753  B02764        1   \n",
       "3412743  8/31/2014 23:55:00  40.7552 -73.9753  B02764        1   \n",
       "3412744  8/31/2014 23:55:00  40.7617 -73.9788  B02764        1   \n",
       "3412745  8/31/2014 23:59:00  40.7395 -73.9889  B02764        1   \n",
       "3412746  8/31/2014 23:59:00  40.7270 -73.9802  B02764        1   \n",
       "\n",
       "              Neighborhood  \n",
       "0          Upper East Side  \n",
       "1             East Village  \n",
       "2                  Midtown  \n",
       "3                  Midtown  \n",
       "4          Lower East Side  \n",
       "...                    ...  \n",
       "3412742            Midtown  \n",
       "3412743            Midtown  \n",
       "3412744            Midtown  \n",
       "3412745  Flatiron District  \n",
       "3412746       East Village  \n",
       "\n",
       "[3412747 rows x 6 columns]"
      ]
     },
     "execution_count": 21,
     "metadata": {},
     "output_type": "execute_result"
    }
   ],
   "source": [
    "x_add"
   ]
  },
  {
   "cell_type": "markdown",
   "metadata": {},
   "source": [
    "Remove all non-matching entries. These were entries with pickups outside of central NYC."
   ]
  },
  {
   "cell_type": "code",
   "execution_count": 22,
   "metadata": {},
   "outputs": [],
   "source": [
    "x_add = x_add[x_add['Neighborhood'] != 0]"
   ]
  },
  {
   "cell_type": "code",
   "execution_count": 23,
   "metadata": {},
   "outputs": [
    {
     "data": {
      "text/html": [
       "<div>\n",
       "<style scoped>\n",
       "    .dataframe tbody tr th:only-of-type {\n",
       "        vertical-align: middle;\n",
       "    }\n",
       "\n",
       "    .dataframe tbody tr th {\n",
       "        vertical-align: top;\n",
       "    }\n",
       "\n",
       "    .dataframe thead th {\n",
       "        text-align: right;\n",
       "    }\n",
       "</style>\n",
       "<table border=\"1\" class=\"dataframe\">\n",
       "  <thead>\n",
       "    <tr style=\"text-align: right;\">\n",
       "      <th></th>\n",
       "      <th>Date/Time</th>\n",
       "      <th>Lat</th>\n",
       "      <th>Lon</th>\n",
       "      <th>Base</th>\n",
       "      <th>Pickups</th>\n",
       "      <th>Neighborhood</th>\n",
       "    </tr>\n",
       "  </thead>\n",
       "  <tbody>\n",
       "    <tr>\n",
       "      <th>0</th>\n",
       "      <td>4/1/2014 0:11:00</td>\n",
       "      <td>40.7690</td>\n",
       "      <td>-73.9549</td>\n",
       "      <td>B02512</td>\n",
       "      <td>1</td>\n",
       "      <td>Upper East Side</td>\n",
       "    </tr>\n",
       "    <tr>\n",
       "      <th>1</th>\n",
       "      <td>4/1/2014 0:21:00</td>\n",
       "      <td>40.7316</td>\n",
       "      <td>-73.9873</td>\n",
       "      <td>B02512</td>\n",
       "      <td>1</td>\n",
       "      <td>East Village</td>\n",
       "    </tr>\n",
       "    <tr>\n",
       "      <th>2</th>\n",
       "      <td>4/1/2014 0:28:00</td>\n",
       "      <td>40.7588</td>\n",
       "      <td>-73.9776</td>\n",
       "      <td>B02512</td>\n",
       "      <td>1</td>\n",
       "      <td>Midtown</td>\n",
       "    </tr>\n",
       "    <tr>\n",
       "      <th>3</th>\n",
       "      <td>4/1/2014 0:33:00</td>\n",
       "      <td>40.7594</td>\n",
       "      <td>-73.9722</td>\n",
       "      <td>B02512</td>\n",
       "      <td>1</td>\n",
       "      <td>Midtown</td>\n",
       "    </tr>\n",
       "    <tr>\n",
       "      <th>4</th>\n",
       "      <td>4/1/2014 0:39:00</td>\n",
       "      <td>40.7223</td>\n",
       "      <td>-73.9887</td>\n",
       "      <td>B02512</td>\n",
       "      <td>1</td>\n",
       "      <td>Lower East Side</td>\n",
       "    </tr>\n",
       "    <tr>\n",
       "      <th>...</th>\n",
       "      <td>...</td>\n",
       "      <td>...</td>\n",
       "      <td>...</td>\n",
       "      <td>...</td>\n",
       "      <td>...</td>\n",
       "      <td>...</td>\n",
       "    </tr>\n",
       "    <tr>\n",
       "      <th>3412742</th>\n",
       "      <td>8/31/2014 23:55:00</td>\n",
       "      <td>40.7552</td>\n",
       "      <td>-73.9753</td>\n",
       "      <td>B02764</td>\n",
       "      <td>1</td>\n",
       "      <td>Midtown</td>\n",
       "    </tr>\n",
       "    <tr>\n",
       "      <th>3412743</th>\n",
       "      <td>8/31/2014 23:55:00</td>\n",
       "      <td>40.7552</td>\n",
       "      <td>-73.9753</td>\n",
       "      <td>B02764</td>\n",
       "      <td>1</td>\n",
       "      <td>Midtown</td>\n",
       "    </tr>\n",
       "    <tr>\n",
       "      <th>3412744</th>\n",
       "      <td>8/31/2014 23:55:00</td>\n",
       "      <td>40.7617</td>\n",
       "      <td>-73.9788</td>\n",
       "      <td>B02764</td>\n",
       "      <td>1</td>\n",
       "      <td>Midtown</td>\n",
       "    </tr>\n",
       "    <tr>\n",
       "      <th>3412745</th>\n",
       "      <td>8/31/2014 23:59:00</td>\n",
       "      <td>40.7395</td>\n",
       "      <td>-73.9889</td>\n",
       "      <td>B02764</td>\n",
       "      <td>1</td>\n",
       "      <td>Flatiron District</td>\n",
       "    </tr>\n",
       "    <tr>\n",
       "      <th>3412746</th>\n",
       "      <td>8/31/2014 23:59:00</td>\n",
       "      <td>40.7270</td>\n",
       "      <td>-73.9802</td>\n",
       "      <td>B02764</td>\n",
       "      <td>1</td>\n",
       "      <td>East Village</td>\n",
       "    </tr>\n",
       "  </tbody>\n",
       "</table>\n",
       "<p>3412747 rows × 6 columns</p>\n",
       "</div>"
      ],
      "text/plain": [
       "                  Date/Time      Lat      Lon    Base  Pickups  \\\n",
       "0          4/1/2014 0:11:00  40.7690 -73.9549  B02512        1   \n",
       "1          4/1/2014 0:21:00  40.7316 -73.9873  B02512        1   \n",
       "2          4/1/2014 0:28:00  40.7588 -73.9776  B02512        1   \n",
       "3          4/1/2014 0:33:00  40.7594 -73.9722  B02512        1   \n",
       "4          4/1/2014 0:39:00  40.7223 -73.9887  B02512        1   \n",
       "...                     ...      ...      ...     ...      ...   \n",
       "3412742  8/31/2014 23:55:00  40.7552 -73.9753  B02764        1   \n",
       "3412743  8/31/2014 23:55:00  40.7552 -73.9753  B02764        1   \n",
       "3412744  8/31/2014 23:55:00  40.7617 -73.9788  B02764        1   \n",
       "3412745  8/31/2014 23:59:00  40.7395 -73.9889  B02764        1   \n",
       "3412746  8/31/2014 23:59:00  40.7270 -73.9802  B02764        1   \n",
       "\n",
       "              Neighborhood  \n",
       "0          Upper East Side  \n",
       "1             East Village  \n",
       "2                  Midtown  \n",
       "3                  Midtown  \n",
       "4          Lower East Side  \n",
       "...                    ...  \n",
       "3412742            Midtown  \n",
       "3412743            Midtown  \n",
       "3412744            Midtown  \n",
       "3412745  Flatiron District  \n",
       "3412746       East Village  \n",
       "\n",
       "[3412747 rows x 6 columns]"
      ]
     },
     "execution_count": 23,
     "metadata": {},
     "output_type": "execute_result"
    }
   ],
   "source": [
    "x_add"
   ]
  },
  {
   "cell_type": "code",
   "execution_count": 24,
   "metadata": {},
   "outputs": [
    {
     "data": {
      "text/plain": [
       "Midtown                       530810\n",
       "Chelsea                       270140\n",
       "Upper East Side               267482\n",
       "Upper West Side               164515\n",
       "West Village                  163077\n",
       "                               ...  \n",
       "Charleston                         1\n",
       "Pleasant Plains                    1\n",
       "Bay Terrace, Staten Island         1\n",
       "Huguenot                           1\n",
       "Prince's Bay                       1\n",
       "Name: Neighborhood, Length: 252, dtype: int64"
      ]
     },
     "execution_count": 24,
     "metadata": {},
     "output_type": "execute_result"
    }
   ],
   "source": [
    "x_add['Neighborhood'].value_counts()"
   ]
  },
  {
   "cell_type": "markdown",
   "metadata": {},
   "source": [
    "There are 252 listed neighborhood. One should check if these neighborhood are correct. But I will not do it for now."
   ]
  },
  {
   "cell_type": "markdown",
   "metadata": {},
   "source": [
    "### Safe the data\n",
    "Safe the current DataFrame."
   ]
  },
  {
   "cell_type": "code",
   "execution_count": 25,
   "metadata": {},
   "outputs": [],
   "source": [
    "if os.path.isfile('datasets/training_data_neighborhood.csv') == False:\n",
    "    x_add.to_csv('datasets/training_data_neighborhood.csv', index=False)"
   ]
  },
  {
   "cell_type": "markdown",
   "metadata": {},
   "source": [
    "### Convert `Date/Time` into a time series format\n",
    "Extract the `Date/Time` parameter column to convert it into a **time series format**."
   ]
  },
  {
   "cell_type": "code",
   "execution_count": 26,
   "metadata": {},
   "outputs": [],
   "source": [
    "x_timeseries = x_add.copy()"
   ]
  },
  {
   "cell_type": "code",
   "execution_count": 27,
   "metadata": {},
   "outputs": [],
   "source": [
    "x_timeseries.index = pd.to_datetime(x_timeseries['Date/Time'])\n",
    "x_timeseries.sort_index(inplace=True)\n",
    "x_timeseries.drop(labels=['Date/Time'], axis=1, inplace=True)"
   ]
  },
  {
   "cell_type": "code",
   "execution_count": 28,
   "metadata": {},
   "outputs": [
    {
     "data": {
      "text/html": [
       "<div>\n",
       "<style scoped>\n",
       "    .dataframe tbody tr th:only-of-type {\n",
       "        vertical-align: middle;\n",
       "    }\n",
       "\n",
       "    .dataframe tbody tr th {\n",
       "        vertical-align: top;\n",
       "    }\n",
       "\n",
       "    .dataframe thead th {\n",
       "        text-align: right;\n",
       "    }\n",
       "</style>\n",
       "<table border=\"1\" class=\"dataframe\">\n",
       "  <thead>\n",
       "    <tr style=\"text-align: right;\">\n",
       "      <th></th>\n",
       "      <th>Lat</th>\n",
       "      <th>Lon</th>\n",
       "      <th>Base</th>\n",
       "      <th>Pickups</th>\n",
       "      <th>Neighborhood</th>\n",
       "    </tr>\n",
       "    <tr>\n",
       "      <th>Date/Time</th>\n",
       "      <th></th>\n",
       "      <th></th>\n",
       "      <th></th>\n",
       "      <th></th>\n",
       "      <th></th>\n",
       "    </tr>\n",
       "  </thead>\n",
       "  <tbody>\n",
       "    <tr>\n",
       "      <th>2014-04-01 00:00:00</th>\n",
       "      <td>40.7188</td>\n",
       "      <td>-73.9863</td>\n",
       "      <td>B02598</td>\n",
       "      <td>1</td>\n",
       "      <td>Lower East Side</td>\n",
       "    </tr>\n",
       "    <tr>\n",
       "      <th>2014-04-01 00:00:00</th>\n",
       "      <td>40.7637</td>\n",
       "      <td>-73.9600</td>\n",
       "      <td>B02598</td>\n",
       "      <td>1</td>\n",
       "      <td>Upper East Side</td>\n",
       "    </tr>\n",
       "    <tr>\n",
       "      <th>2014-04-01 00:00:00</th>\n",
       "      <td>40.7215</td>\n",
       "      <td>-73.9952</td>\n",
       "      <td>B02682</td>\n",
       "      <td>1</td>\n",
       "      <td>Nolita</td>\n",
       "    </tr>\n",
       "    <tr>\n",
       "      <th>2014-04-01 00:01:00</th>\n",
       "      <td>40.7355</td>\n",
       "      <td>-73.9966</td>\n",
       "      <td>B02617</td>\n",
       "      <td>1</td>\n",
       "      <td>Greenwich Village</td>\n",
       "    </tr>\n",
       "    <tr>\n",
       "      <th>2014-04-01 00:02:00</th>\n",
       "      <td>40.7556</td>\n",
       "      <td>-73.9874</td>\n",
       "      <td>B02598</td>\n",
       "      <td>1</td>\n",
       "      <td>Theater District</td>\n",
       "    </tr>\n",
       "    <tr>\n",
       "      <th>...</th>\n",
       "      <td>...</td>\n",
       "      <td>...</td>\n",
       "      <td>...</td>\n",
       "      <td>...</td>\n",
       "      <td>...</td>\n",
       "    </tr>\n",
       "    <tr>\n",
       "      <th>2014-08-31 23:59:00</th>\n",
       "      <td>40.8924</td>\n",
       "      <td>-73.9107</td>\n",
       "      <td>B02682</td>\n",
       "      <td>1</td>\n",
       "      <td>Riverdale</td>\n",
       "    </tr>\n",
       "    <tr>\n",
       "      <th>2014-08-31 23:59:00</th>\n",
       "      <td>40.6448</td>\n",
       "      <td>-73.7818</td>\n",
       "      <td>B02682</td>\n",
       "      <td>1</td>\n",
       "      <td>John F. Kennedy International Airport</td>\n",
       "    </tr>\n",
       "    <tr>\n",
       "      <th>2014-08-31 23:59:00</th>\n",
       "      <td>40.6466</td>\n",
       "      <td>-73.7894</td>\n",
       "      <td>B02617</td>\n",
       "      <td>1</td>\n",
       "      <td>John F. Kennedy International Airport</td>\n",
       "    </tr>\n",
       "    <tr>\n",
       "      <th>2014-08-31 23:59:00</th>\n",
       "      <td>40.7395</td>\n",
       "      <td>-73.9889</td>\n",
       "      <td>B02764</td>\n",
       "      <td>1</td>\n",
       "      <td>Flatiron District</td>\n",
       "    </tr>\n",
       "    <tr>\n",
       "      <th>2014-08-31 23:59:00</th>\n",
       "      <td>40.7270</td>\n",
       "      <td>-73.9802</td>\n",
       "      <td>B02764</td>\n",
       "      <td>1</td>\n",
       "      <td>East Village</td>\n",
       "    </tr>\n",
       "  </tbody>\n",
       "</table>\n",
       "<p>3412747 rows × 5 columns</p>\n",
       "</div>"
      ],
      "text/plain": [
       "                         Lat      Lon    Base  Pickups  \\\n",
       "Date/Time                                                \n",
       "2014-04-01 00:00:00  40.7188 -73.9863  B02598        1   \n",
       "2014-04-01 00:00:00  40.7637 -73.9600  B02598        1   \n",
       "2014-04-01 00:00:00  40.7215 -73.9952  B02682        1   \n",
       "2014-04-01 00:01:00  40.7355 -73.9966  B02617        1   \n",
       "2014-04-01 00:02:00  40.7556 -73.9874  B02598        1   \n",
       "...                      ...      ...     ...      ...   \n",
       "2014-08-31 23:59:00  40.8924 -73.9107  B02682        1   \n",
       "2014-08-31 23:59:00  40.6448 -73.7818  B02682        1   \n",
       "2014-08-31 23:59:00  40.6466 -73.7894  B02617        1   \n",
       "2014-08-31 23:59:00  40.7395 -73.9889  B02764        1   \n",
       "2014-08-31 23:59:00  40.7270 -73.9802  B02764        1   \n",
       "\n",
       "                                              Neighborhood  \n",
       "Date/Time                                                   \n",
       "2014-04-01 00:00:00                        Lower East Side  \n",
       "2014-04-01 00:00:00                        Upper East Side  \n",
       "2014-04-01 00:00:00                                 Nolita  \n",
       "2014-04-01 00:01:00                      Greenwich Village  \n",
       "2014-04-01 00:02:00                       Theater District  \n",
       "...                                                    ...  \n",
       "2014-08-31 23:59:00                              Riverdale  \n",
       "2014-08-31 23:59:00  John F. Kennedy International Airport  \n",
       "2014-08-31 23:59:00  John F. Kennedy International Airport  \n",
       "2014-08-31 23:59:00                      Flatiron District  \n",
       "2014-08-31 23:59:00                           East Village  \n",
       "\n",
       "[3412747 rows x 5 columns]"
      ]
     },
     "execution_count": 28,
     "metadata": {},
     "output_type": "execute_result"
    }
   ],
   "source": [
    "x_timeseries"
   ]
  },
  {
   "cell_type": "markdown",
   "metadata": {},
   "source": [
    "### Delete unnecessary parameters\n",
    "Now that we have the new neighborhood parameter, we do not need `Lat` and `Lon` any more. These two parameter columns will be deleted. \n",
    "\n",
    "As we do not pay further attention to the `Base` parameter, this column will also be deleted but in other scenarios the `Base` can be very important."
   ]
  },
  {
   "cell_type": "code",
   "execution_count": 29,
   "metadata": {},
   "outputs": [
    {
     "data": {
      "text/html": [
       "<div>\n",
       "<style scoped>\n",
       "    .dataframe tbody tr th:only-of-type {\n",
       "        vertical-align: middle;\n",
       "    }\n",
       "\n",
       "    .dataframe tbody tr th {\n",
       "        vertical-align: top;\n",
       "    }\n",
       "\n",
       "    .dataframe thead th {\n",
       "        text-align: right;\n",
       "    }\n",
       "</style>\n",
       "<table border=\"1\" class=\"dataframe\">\n",
       "  <thead>\n",
       "    <tr style=\"text-align: right;\">\n",
       "      <th></th>\n",
       "      <th>Pickups</th>\n",
       "      <th>Neighborhood</th>\n",
       "    </tr>\n",
       "    <tr>\n",
       "      <th>Date/Time</th>\n",
       "      <th></th>\n",
       "      <th></th>\n",
       "    </tr>\n",
       "  </thead>\n",
       "  <tbody>\n",
       "    <tr>\n",
       "      <th>2014-04-01 00:00:00</th>\n",
       "      <td>1</td>\n",
       "      <td>Lower East Side</td>\n",
       "    </tr>\n",
       "    <tr>\n",
       "      <th>2014-04-01 00:00:00</th>\n",
       "      <td>1</td>\n",
       "      <td>Upper East Side</td>\n",
       "    </tr>\n",
       "    <tr>\n",
       "      <th>2014-04-01 00:00:00</th>\n",
       "      <td>1</td>\n",
       "      <td>Nolita</td>\n",
       "    </tr>\n",
       "    <tr>\n",
       "      <th>2014-04-01 00:01:00</th>\n",
       "      <td>1</td>\n",
       "      <td>Greenwich Village</td>\n",
       "    </tr>\n",
       "    <tr>\n",
       "      <th>2014-04-01 00:02:00</th>\n",
       "      <td>1</td>\n",
       "      <td>Theater District</td>\n",
       "    </tr>\n",
       "    <tr>\n",
       "      <th>...</th>\n",
       "      <td>...</td>\n",
       "      <td>...</td>\n",
       "    </tr>\n",
       "    <tr>\n",
       "      <th>2014-08-31 23:59:00</th>\n",
       "      <td>1</td>\n",
       "      <td>Riverdale</td>\n",
       "    </tr>\n",
       "    <tr>\n",
       "      <th>2014-08-31 23:59:00</th>\n",
       "      <td>1</td>\n",
       "      <td>John F. Kennedy International Airport</td>\n",
       "    </tr>\n",
       "    <tr>\n",
       "      <th>2014-08-31 23:59:00</th>\n",
       "      <td>1</td>\n",
       "      <td>John F. Kennedy International Airport</td>\n",
       "    </tr>\n",
       "    <tr>\n",
       "      <th>2014-08-31 23:59:00</th>\n",
       "      <td>1</td>\n",
       "      <td>Flatiron District</td>\n",
       "    </tr>\n",
       "    <tr>\n",
       "      <th>2014-08-31 23:59:00</th>\n",
       "      <td>1</td>\n",
       "      <td>East Village</td>\n",
       "    </tr>\n",
       "  </tbody>\n",
       "</table>\n",
       "<p>3412747 rows × 2 columns</p>\n",
       "</div>"
      ],
      "text/plain": [
       "                     Pickups                           Neighborhood\n",
       "Date/Time                                                          \n",
       "2014-04-01 00:00:00        1                        Lower East Side\n",
       "2014-04-01 00:00:00        1                        Upper East Side\n",
       "2014-04-01 00:00:00        1                                 Nolita\n",
       "2014-04-01 00:01:00        1                      Greenwich Village\n",
       "2014-04-01 00:02:00        1                       Theater District\n",
       "...                      ...                                    ...\n",
       "2014-08-31 23:59:00        1                              Riverdale\n",
       "2014-08-31 23:59:00        1  John F. Kennedy International Airport\n",
       "2014-08-31 23:59:00        1  John F. Kennedy International Airport\n",
       "2014-08-31 23:59:00        1                      Flatiron District\n",
       "2014-08-31 23:59:00        1                           East Village\n",
       "\n",
       "[3412747 rows x 2 columns]"
      ]
     },
     "execution_count": 29,
     "metadata": {},
     "output_type": "execute_result"
    }
   ],
   "source": [
    "x_neighbor = x_timeseries.drop(['Lat', 'Lon', 'Base'], axis = 1)\n",
    "x_neighbor"
   ]
  },
  {
   "cell_type": "markdown",
   "metadata": {},
   "source": [
    "### Cluster the data into one hour intervals\n",
    "Cluster the data within time intervals of one hour."
   ]
  },
  {
   "cell_type": "code",
   "execution_count": 30,
   "metadata": {},
   "outputs": [],
   "source": [
    "x_cluster = x_neighbor.resample('H').agg({'Pickups' : 'sum', 'Neighborhood': 'nunique'})"
   ]
  },
  {
   "cell_type": "code",
   "execution_count": 31,
   "metadata": {},
   "outputs": [
    {
     "data": {
      "text/html": [
       "<div>\n",
       "<style scoped>\n",
       "    .dataframe tbody tr th:only-of-type {\n",
       "        vertical-align: middle;\n",
       "    }\n",
       "\n",
       "    .dataframe tbody tr th {\n",
       "        vertical-align: top;\n",
       "    }\n",
       "\n",
       "    .dataframe thead th {\n",
       "        text-align: right;\n",
       "    }\n",
       "</style>\n",
       "<table border=\"1\" class=\"dataframe\">\n",
       "  <thead>\n",
       "    <tr style=\"text-align: right;\">\n",
       "      <th></th>\n",
       "      <th>Pickups</th>\n",
       "      <th>Neighborhood</th>\n",
       "    </tr>\n",
       "    <tr>\n",
       "      <th>Date/Time</th>\n",
       "      <th></th>\n",
       "      <th></th>\n",
       "    </tr>\n",
       "  </thead>\n",
       "  <tbody>\n",
       "    <tr>\n",
       "      <th>2014-04-01 00:00:00</th>\n",
       "      <td>132</td>\n",
       "      <td>38</td>\n",
       "    </tr>\n",
       "    <tr>\n",
       "      <th>2014-04-01 01:00:00</th>\n",
       "      <td>66</td>\n",
       "      <td>26</td>\n",
       "    </tr>\n",
       "    <tr>\n",
       "      <th>2014-04-01 02:00:00</th>\n",
       "      <td>51</td>\n",
       "      <td>22</td>\n",
       "    </tr>\n",
       "    <tr>\n",
       "      <th>2014-04-01 03:00:00</th>\n",
       "      <td>87</td>\n",
       "      <td>41</td>\n",
       "    </tr>\n",
       "    <tr>\n",
       "      <th>2014-04-01 04:00:00</th>\n",
       "      <td>157</td>\n",
       "      <td>47</td>\n",
       "    </tr>\n",
       "    <tr>\n",
       "      <th>...</th>\n",
       "      <td>...</td>\n",
       "      <td>...</td>\n",
       "    </tr>\n",
       "    <tr>\n",
       "      <th>2014-08-31 19:00:00</th>\n",
       "      <td>1292</td>\n",
       "      <td>105</td>\n",
       "    </tr>\n",
       "    <tr>\n",
       "      <th>2014-08-31 20:00:00</th>\n",
       "      <td>1205</td>\n",
       "      <td>112</td>\n",
       "    </tr>\n",
       "    <tr>\n",
       "      <th>2014-08-31 21:00:00</th>\n",
       "      <td>1361</td>\n",
       "      <td>100</td>\n",
       "    </tr>\n",
       "    <tr>\n",
       "      <th>2014-08-31 22:00:00</th>\n",
       "      <td>1294</td>\n",
       "      <td>95</td>\n",
       "    </tr>\n",
       "    <tr>\n",
       "      <th>2014-08-31 23:00:00</th>\n",
       "      <td>978</td>\n",
       "      <td>92</td>\n",
       "    </tr>\n",
       "  </tbody>\n",
       "</table>\n",
       "<p>3672 rows × 2 columns</p>\n",
       "</div>"
      ],
      "text/plain": [
       "                     Pickups  Neighborhood\n",
       "Date/Time                                 \n",
       "2014-04-01 00:00:00      132            38\n",
       "2014-04-01 01:00:00       66            26\n",
       "2014-04-01 02:00:00       51            22\n",
       "2014-04-01 03:00:00       87            41\n",
       "2014-04-01 04:00:00      157            47\n",
       "...                      ...           ...\n",
       "2014-08-31 19:00:00     1292           105\n",
       "2014-08-31 20:00:00     1205           112\n",
       "2014-08-31 21:00:00     1361           100\n",
       "2014-08-31 22:00:00     1294            95\n",
       "2014-08-31 23:00:00      978            92\n",
       "\n",
       "[3672 rows x 2 columns]"
      ]
     },
     "execution_count": 31,
     "metadata": {},
     "output_type": "execute_result"
    }
   ],
   "source": [
    "x_cluster"
   ]
  },
  {
   "cell_type": "markdown",
   "metadata": {},
   "source": [
    "### Extend the data by weekdays, weekend check and hours of the day"
   ]
  },
  {
   "cell_type": "code",
   "execution_count": 32,
   "metadata": {},
   "outputs": [
    {
     "data": {
      "text/html": [
       "<div>\n",
       "<style scoped>\n",
       "    .dataframe tbody tr th:only-of-type {\n",
       "        vertical-align: middle;\n",
       "    }\n",
       "\n",
       "    .dataframe tbody tr th {\n",
       "        vertical-align: top;\n",
       "    }\n",
       "\n",
       "    .dataframe thead th {\n",
       "        text-align: right;\n",
       "    }\n",
       "</style>\n",
       "<table border=\"1\" class=\"dataframe\">\n",
       "  <thead>\n",
       "    <tr style=\"text-align: right;\">\n",
       "      <th></th>\n",
       "      <th>Pickups</th>\n",
       "      <th>Neighborhood</th>\n",
       "      <th>Weekday</th>\n",
       "      <th>Is_weekend</th>\n",
       "      <th>Hour_of_day</th>\n",
       "    </tr>\n",
       "    <tr>\n",
       "      <th>Date/Time</th>\n",
       "      <th></th>\n",
       "      <th></th>\n",
       "      <th></th>\n",
       "      <th></th>\n",
       "      <th></th>\n",
       "    </tr>\n",
       "  </thead>\n",
       "  <tbody>\n",
       "    <tr>\n",
       "      <th>2014-04-01 00:00:00</th>\n",
       "      <td>132</td>\n",
       "      <td>38</td>\n",
       "      <td>1</td>\n",
       "      <td>0</td>\n",
       "      <td>0</td>\n",
       "    </tr>\n",
       "    <tr>\n",
       "      <th>2014-04-01 01:00:00</th>\n",
       "      <td>66</td>\n",
       "      <td>26</td>\n",
       "      <td>1</td>\n",
       "      <td>0</td>\n",
       "      <td>1</td>\n",
       "    </tr>\n",
       "    <tr>\n",
       "      <th>2014-04-01 02:00:00</th>\n",
       "      <td>51</td>\n",
       "      <td>22</td>\n",
       "      <td>1</td>\n",
       "      <td>0</td>\n",
       "      <td>2</td>\n",
       "    </tr>\n",
       "    <tr>\n",
       "      <th>2014-04-01 03:00:00</th>\n",
       "      <td>87</td>\n",
       "      <td>41</td>\n",
       "      <td>1</td>\n",
       "      <td>0</td>\n",
       "      <td>3</td>\n",
       "    </tr>\n",
       "    <tr>\n",
       "      <th>2014-04-01 04:00:00</th>\n",
       "      <td>157</td>\n",
       "      <td>47</td>\n",
       "      <td>1</td>\n",
       "      <td>0</td>\n",
       "      <td>4</td>\n",
       "    </tr>\n",
       "    <tr>\n",
       "      <th>...</th>\n",
       "      <td>...</td>\n",
       "      <td>...</td>\n",
       "      <td>...</td>\n",
       "      <td>...</td>\n",
       "      <td>...</td>\n",
       "    </tr>\n",
       "    <tr>\n",
       "      <th>2014-08-31 19:00:00</th>\n",
       "      <td>1292</td>\n",
       "      <td>105</td>\n",
       "      <td>6</td>\n",
       "      <td>1</td>\n",
       "      <td>19</td>\n",
       "    </tr>\n",
       "    <tr>\n",
       "      <th>2014-08-31 20:00:00</th>\n",
       "      <td>1205</td>\n",
       "      <td>112</td>\n",
       "      <td>6</td>\n",
       "      <td>1</td>\n",
       "      <td>20</td>\n",
       "    </tr>\n",
       "    <tr>\n",
       "      <th>2014-08-31 21:00:00</th>\n",
       "      <td>1361</td>\n",
       "      <td>100</td>\n",
       "      <td>6</td>\n",
       "      <td>1</td>\n",
       "      <td>21</td>\n",
       "    </tr>\n",
       "    <tr>\n",
       "      <th>2014-08-31 22:00:00</th>\n",
       "      <td>1294</td>\n",
       "      <td>95</td>\n",
       "      <td>6</td>\n",
       "      <td>1</td>\n",
       "      <td>22</td>\n",
       "    </tr>\n",
       "    <tr>\n",
       "      <th>2014-08-31 23:00:00</th>\n",
       "      <td>978</td>\n",
       "      <td>92</td>\n",
       "      <td>6</td>\n",
       "      <td>1</td>\n",
       "      <td>23</td>\n",
       "    </tr>\n",
       "  </tbody>\n",
       "</table>\n",
       "<p>3672 rows × 5 columns</p>\n",
       "</div>"
      ],
      "text/plain": [
       "                     Pickups  Neighborhood  Weekday  Is_weekend  Hour_of_day\n",
       "Date/Time                                                                   \n",
       "2014-04-01 00:00:00      132            38        1           0            0\n",
       "2014-04-01 01:00:00       66            26        1           0            1\n",
       "2014-04-01 02:00:00       51            22        1           0            2\n",
       "2014-04-01 03:00:00       87            41        1           0            3\n",
       "2014-04-01 04:00:00      157            47        1           0            4\n",
       "...                      ...           ...      ...         ...          ...\n",
       "2014-08-31 19:00:00     1292           105        6           1           19\n",
       "2014-08-31 20:00:00     1205           112        6           1           20\n",
       "2014-08-31 21:00:00     1361           100        6           1           21\n",
       "2014-08-31 22:00:00     1294            95        6           1           22\n",
       "2014-08-31 23:00:00      978            92        6           1           23\n",
       "\n",
       "[3672 rows x 5 columns]"
      ]
     },
     "execution_count": 32,
     "metadata": {},
     "output_type": "execute_result"
    }
   ],
   "source": [
    "x_cluster['Weekday'] = x_cluster.index.weekday\n",
    "x_cluster['Is_weekend'] = x_cluster.index.map(lambda x: 1 if x.weekday() > 4 else 0)\n",
    "x_cluster['Hour_of_day'] = x_cluster.index.hour\n",
    "x_cluster"
   ]
  },
  {
   "cell_type": "markdown",
   "metadata": {},
   "source": [
    "**Conclusion**: Now we can see, that on April the 1st 2014 between midnight and 1 am where 132 pickups distributed between 38 neighborhoods. It is a Thursday, thus not a weekend and its the first hour of the day."
   ]
  },
  {
   "cell_type": "markdown",
   "metadata": {},
   "source": [
    "## Analise and visualize the preprocessed data\n",
    "### Distribution plots"
   ]
  },
  {
   "cell_type": "markdown",
   "metadata": {},
   "source": [
    "Plot the `Pickups` distribution for April 2014."
   ]
  },
  {
   "cell_type": "code",
   "execution_count": 33,
   "metadata": {},
   "outputs": [
    {
     "data": {
      "image/png": "[encoded data removed]",
      "text/plain": [
       "<Figure size 432x288 with 1 Axes>"
      ]
     },
     "metadata": {
      "needs_background": "light"
     },
     "output_type": "display_data"
    }
   ],
   "source": [
    "ax = x_cluster['Pickups'].plot()\n",
    "ax.set_ylabel('# of pickups')\n",
    "ax.set_xlabel('Time (days)');"
   ]
  },
  {
   "cell_type": "markdown",
   "metadata": {},
   "source": [
    "Plot the `Neighborhood` distribution for April 2014."
   ]
  },
  {
   "cell_type": "code",
   "execution_count": 34,
   "metadata": {},
   "outputs": [
    {
     "data": {
      "image/png": "[encoded data removed]",
      "text/plain": [
       "<Figure size 432x288 with 1 Axes>"
      ]
     },
     "metadata": {
      "needs_background": "light"
     },
     "output_type": "display_data"
    }
   ],
   "source": [
    "ax = x_cluster['Neighborhood'].plot()\n",
    "ax.set_ylabel('# of pickups')\n",
    "ax.set_xlabel('Time (days)');"
   ]
  },
  {
   "cell_type": "markdown",
   "metadata": {},
   "source": [
    "Plot the `Pickups` distribution for April the 1st 2014."
   ]
  },
  {
   "cell_type": "code",
   "execution_count": 35,
   "metadata": {},
   "outputs": [
    {
     "data": {
      "image/png": "[encoded data removed]",
      "text/plain": [
       "<Figure size 432x288 with 1 Axes>"
      ]
     },
     "metadata": {
      "needs_background": "light"
     },
     "output_type": "display_data"
    }
   ],
   "source": [
    "ax = x_cluster.loc['2014-04-01', 'Pickups'].plot()\n",
    "ax.set_ylabel('# of pickups')\n",
    "ax.set_xlabel('Time (hours)');"
   ]
  },
  {
   "cell_type": "markdown",
   "metadata": {},
   "source": [
    "Plot the `Neighborhood` distribution for April the 1st 2014."
   ]
  },
  {
   "cell_type": "code",
   "execution_count": 36,
   "metadata": {},
   "outputs": [
    {
     "data": {
      "image/png": "[encoded data removed]",
      "text/plain": [
       "<Figure size 432x288 with 1 Axes>"
      ]
     },
     "metadata": {
      "needs_background": "light"
     },
     "output_type": "display_data"
    }
   ],
   "source": [
    "ax = x_cluster.loc['2014-04-01', 'Neighborhood'].plot()\n",
    "ax.set_ylabel('# of pickups')\n",
    "ax.set_xlabel('Time (hours)');"
   ]
  },
  {
   "cell_type": "markdown",
   "metadata": {},
   "source": [
    "### Data analysis\n",
    "Analise the preprocessed data."
   ]
  },
  {
   "cell_type": "code",
   "execution_count": 37,
   "metadata": {},
   "outputs": [
    {
     "name": "stdout",
     "output_type": "stream",
     "text": [
      "<class 'pandas.core.frame.DataFrame'>\n",
      "DatetimeIndex: 3672 entries, 2014-04-01 00:00:00 to 2014-08-31 23:00:00\n",
      "Freq: H\n",
      "Data columns (total 5 columns):\n",
      " #   Column        Non-Null Count  Dtype\n",
      "---  ------        --------------  -----\n",
      " 0   Pickups       3672 non-null   int64\n",
      " 1   Neighborhood  3672 non-null   int64\n",
      " 2   Weekday       3672 non-null   int64\n",
      " 3   Is_weekend    3672 non-null   int64\n",
      " 4   Hour_of_day   3672 non-null   int64\n",
      "dtypes: int64(5)\n",
      "memory usage: 332.1 KB\n"
     ]
    }
   ],
   "source": [
    "x_cluster.info()"
   ]
  },
  {
   "cell_type": "code",
   "execution_count": 38,
   "metadata": {},
   "outputs": [
    {
     "data": {
      "text/plain": [
       "count    3672.000000\n",
       "mean      929.397331\n",
       "std       571.607234\n",
       "min        44.000000\n",
       "25%       446.750000\n",
       "50%       893.000000\n",
       "75%      1318.250000\n",
       "max      3271.000000\n",
       "Name: Pickups, dtype: float64"
      ]
     },
     "execution_count": 38,
     "metadata": {},
     "output_type": "execute_result"
    }
   ],
   "source": [
    "x_cluster['Pickups'].describe()"
   ]
  },
  {
   "cell_type": "markdown",
   "metadata": {},
   "source": [
    "### Correlations\n",
    "Compute the ***standard correlation coefficient*** between the different **numerical attributes**."
   ]
  },
  {
   "cell_type": "code",
   "execution_count": 39,
   "metadata": {},
   "outputs": [
    {
     "data": {
      "text/html": [
       "<div>\n",
       "<style scoped>\n",
       "    .dataframe tbody tr th:only-of-type {\n",
       "        vertical-align: middle;\n",
       "    }\n",
       "\n",
       "    .dataframe tbody tr th {\n",
       "        vertical-align: top;\n",
       "    }\n",
       "\n",
       "    .dataframe thead th {\n",
       "        text-align: right;\n",
       "    }\n",
       "</style>\n",
       "<table border=\"1\" class=\"dataframe\">\n",
       "  <thead>\n",
       "    <tr style=\"text-align: right;\">\n",
       "      <th></th>\n",
       "      <th>Pickups</th>\n",
       "      <th>Neighborhood</th>\n",
       "      <th>Weekday</th>\n",
       "      <th>Is_weekend</th>\n",
       "      <th>Hour_of_day</th>\n",
       "    </tr>\n",
       "  </thead>\n",
       "  <tbody>\n",
       "    <tr>\n",
       "      <th>Pickups</th>\n",
       "      <td>1.000000</td>\n",
       "      <td>0.724893</td>\n",
       "      <td>-4.629113e-02</td>\n",
       "      <td>-1.619481e-01</td>\n",
       "      <td>6.489427e-01</td>\n",
       "    </tr>\n",
       "    <tr>\n",
       "      <th>Neighborhood</th>\n",
       "      <td>0.724893</td>\n",
       "      <td>1.000000</td>\n",
       "      <td>1.897081e-01</td>\n",
       "      <td>1.597209e-01</td>\n",
       "      <td>5.512595e-01</td>\n",
       "    </tr>\n",
       "    <tr>\n",
       "      <th>Weekday</th>\n",
       "      <td>-0.046291</td>\n",
       "      <td>0.189708</td>\n",
       "      <td>1.000000e+00</td>\n",
       "      <td>7.912357e-01</td>\n",
       "      <td>1.403514e-19</td>\n",
       "    </tr>\n",
       "    <tr>\n",
       "      <th>Is_weekend</th>\n",
       "      <td>-0.161948</td>\n",
       "      <td>0.159721</td>\n",
       "      <td>7.912357e-01</td>\n",
       "      <td>1.000000e+00</td>\n",
       "      <td>3.087920e-19</td>\n",
       "    </tr>\n",
       "    <tr>\n",
       "      <th>Hour_of_day</th>\n",
       "      <td>0.648943</td>\n",
       "      <td>0.551260</td>\n",
       "      <td>1.403514e-19</td>\n",
       "      <td>3.087920e-19</td>\n",
       "      <td>1.000000e+00</td>\n",
       "    </tr>\n",
       "  </tbody>\n",
       "</table>\n",
       "</div>"
      ],
      "text/plain": [
       "               Pickups  Neighborhood       Weekday    Is_weekend   Hour_of_day\n",
       "Pickups       1.000000      0.724893 -4.629113e-02 -1.619481e-01  6.489427e-01\n",
       "Neighborhood  0.724893      1.000000  1.897081e-01  1.597209e-01  5.512595e-01\n",
       "Weekday      -0.046291      0.189708  1.000000e+00  7.912357e-01  1.403514e-19\n",
       "Is_weekend   -0.161948      0.159721  7.912357e-01  1.000000e+00  3.087920e-19\n",
       "Hour_of_day   0.648943      0.551260  1.403514e-19  3.087920e-19  1.000000e+00"
      ]
     },
     "execution_count": 39,
     "metadata": {},
     "output_type": "execute_result"
    }
   ],
   "source": [
    "corr_matrix = x_cluster.corr()\n",
    "corr_matrix"
   ]
  },
  {
   "cell_type": "markdown",
   "metadata": {},
   "source": [
    "There is a high correlation between the number of pickups and the number of neighborhoods of 0.72."
   ]
  },
  {
   "cell_type": "markdown",
   "metadata": {},
   "source": [
    "##### Plot the correlations\n",
    "Plot the correlations between the attributes: `Pickups` and `Neighborhood`. Use [`pandas.plotting.scatter_matrix`](https://pandas.pydata.org/pandas-docs/stable/reference/api/pandas.plotting.scatter_matrix.html) for plotting the correlations."
   ]
  },
  {
   "cell_type": "code",
   "execution_count": 40,
   "metadata": {},
   "outputs": [
    {
     "data": {
      "image/png": "[encoded data removed]",
      "text/plain": [
       "<Figure size 864x576 with 4 Axes>"
      ]
     },
     "metadata": {
      "needs_background": "light"
     },
     "output_type": "display_data"
    }
   ],
   "source": [
    "from pandas.plotting import scatter_matrix\n",
    "\n",
    "attributes = ['Pickups', 'Neighborhood']\n",
    "scatter_matrix(x_cluster[attributes], figsize=(12,8))\n",
    "plt.show()"
   ]
  },
  {
   "cell_type": "markdown",
   "metadata": {},
   "source": [
    "### Conclusion \n",
    "1. There is a clear correlation between time of day and number of pickups.\n",
    "2. There is also a clear correlation between time of day and number of neighborhoods. \n",
    "3. There is a clear, polynomial correlation between the number of neighborhoods and the number of pickups."
   ]
  },
  {
   "cell_type": "markdown",
   "metadata": {},
   "source": [
    "### Further improvements\n",
    "For better predictions the data should/could be extended by the following attributes:\n",
    "1. Is it a holiday\n",
    "2. Is it raining\n",
    "3. Outside temperature"
   ]
  },
  {
   "cell_type": "markdown",
   "metadata": {},
   "source": [
    "### Outlook \n",
    "The above mentioned correlations enable us to use machine learning models to predict the amount of pickups dependent on the time of day.\n",
    "\n",
    "The problem we have to solve is a **regression problem**. We have to find the best approximation between the `Date/Time`, the `Neighborhood` and the `Pickups` attributes."
   ]
  },
  {
   "cell_type": "markdown",
   "metadata": {},
   "source": [
    "## Prepare the data for machine learning algorithms"
   ]
  },
  {
   "cell_type": "markdown",
   "metadata": {},
   "source": [
    "### Split labels from training set\n",
    "Drop the labels from the training set and move them into the \"label set\"."
   ]
  },
  {
   "cell_type": "code",
   "execution_count": 41,
   "metadata": {},
   "outputs": [
    {
     "data": {
      "text/html": [
       "<div>\n",
       "<style scoped>\n",
       "    .dataframe tbody tr th:only-of-type {\n",
       "        vertical-align: middle;\n",
       "    }\n",
       "\n",
       "    .dataframe tbody tr th {\n",
       "        vertical-align: top;\n",
       "    }\n",
       "\n",
       "    .dataframe thead th {\n",
       "        text-align: right;\n",
       "    }\n",
       "</style>\n",
       "<table border=\"1\" class=\"dataframe\">\n",
       "  <thead>\n",
       "    <tr style=\"text-align: right;\">\n",
       "      <th></th>\n",
       "      <th>Pickups</th>\n",
       "      <th>Neighborhood</th>\n",
       "      <th>Weekday</th>\n",
       "      <th>Is_weekend</th>\n",
       "      <th>Hour_of_day</th>\n",
       "    </tr>\n",
       "    <tr>\n",
       "      <th>Date/Time</th>\n",
       "      <th></th>\n",
       "      <th></th>\n",
       "      <th></th>\n",
       "      <th></th>\n",
       "      <th></th>\n",
       "    </tr>\n",
       "  </thead>\n",
       "  <tbody>\n",
       "    <tr>\n",
       "      <th>2014-04-01 00:00:00</th>\n",
       "      <td>132</td>\n",
       "      <td>38</td>\n",
       "      <td>1</td>\n",
       "      <td>0</td>\n",
       "      <td>0</td>\n",
       "    </tr>\n",
       "    <tr>\n",
       "      <th>2014-04-01 01:00:00</th>\n",
       "      <td>66</td>\n",
       "      <td>26</td>\n",
       "      <td>1</td>\n",
       "      <td>0</td>\n",
       "      <td>1</td>\n",
       "    </tr>\n",
       "    <tr>\n",
       "      <th>2014-04-01 02:00:00</th>\n",
       "      <td>51</td>\n",
       "      <td>22</td>\n",
       "      <td>1</td>\n",
       "      <td>0</td>\n",
       "      <td>2</td>\n",
       "    </tr>\n",
       "    <tr>\n",
       "      <th>2014-04-01 03:00:00</th>\n",
       "      <td>87</td>\n",
       "      <td>41</td>\n",
       "      <td>1</td>\n",
       "      <td>0</td>\n",
       "      <td>3</td>\n",
       "    </tr>\n",
       "    <tr>\n",
       "      <th>2014-04-01 04:00:00</th>\n",
       "      <td>157</td>\n",
       "      <td>47</td>\n",
       "      <td>1</td>\n",
       "      <td>0</td>\n",
       "      <td>4</td>\n",
       "    </tr>\n",
       "  </tbody>\n",
       "</table>\n",
       "</div>"
      ],
      "text/plain": [
       "                     Pickups  Neighborhood  Weekday  Is_weekend  Hour_of_day\n",
       "Date/Time                                                                   \n",
       "2014-04-01 00:00:00      132            38        1           0            0\n",
       "2014-04-01 01:00:00       66            26        1           0            1\n",
       "2014-04-01 02:00:00       51            22        1           0            2\n",
       "2014-04-01 03:00:00       87            41        1           0            3\n",
       "2014-04-01 04:00:00      157            47        1           0            4"
      ]
     },
     "execution_count": 41,
     "metadata": {},
     "output_type": "execute_result"
    }
   ],
   "source": [
    "x_cluster.head()"
   ]
  },
  {
   "cell_type": "code",
   "execution_count": 42,
   "metadata": {},
   "outputs": [],
   "source": [
    "X_train = x_cluster.drop('Pickups', axis = 1)\n",
    "y_train = x_cluster['Pickups'].copy()"
   ]
  },
  {
   "cell_type": "code",
   "execution_count": 43,
   "metadata": {},
   "outputs": [
    {
     "data": {
      "text/html": [
       "<div>\n",
       "<style scoped>\n",
       "    .dataframe tbody tr th:only-of-type {\n",
       "        vertical-align: middle;\n",
       "    }\n",
       "\n",
       "    .dataframe tbody tr th {\n",
       "        vertical-align: top;\n",
       "    }\n",
       "\n",
       "    .dataframe thead th {\n",
       "        text-align: right;\n",
       "    }\n",
       "</style>\n",
       "<table border=\"1\" class=\"dataframe\">\n",
       "  <thead>\n",
       "    <tr style=\"text-align: right;\">\n",
       "      <th></th>\n",
       "      <th>Neighborhood</th>\n",
       "      <th>Weekday</th>\n",
       "      <th>Is_weekend</th>\n",
       "      <th>Hour_of_day</th>\n",
       "    </tr>\n",
       "    <tr>\n",
       "      <th>Date/Time</th>\n",
       "      <th></th>\n",
       "      <th></th>\n",
       "      <th></th>\n",
       "      <th></th>\n",
       "    </tr>\n",
       "  </thead>\n",
       "  <tbody>\n",
       "    <tr>\n",
       "      <th>2014-04-01 00:00:00</th>\n",
       "      <td>38</td>\n",
       "      <td>1</td>\n",
       "      <td>0</td>\n",
       "      <td>0</td>\n",
       "    </tr>\n",
       "    <tr>\n",
       "      <th>2014-04-01 01:00:00</th>\n",
       "      <td>26</td>\n",
       "      <td>1</td>\n",
       "      <td>0</td>\n",
       "      <td>1</td>\n",
       "    </tr>\n",
       "    <tr>\n",
       "      <th>2014-04-01 02:00:00</th>\n",
       "      <td>22</td>\n",
       "      <td>1</td>\n",
       "      <td>0</td>\n",
       "      <td>2</td>\n",
       "    </tr>\n",
       "    <tr>\n",
       "      <th>2014-04-01 03:00:00</th>\n",
       "      <td>41</td>\n",
       "      <td>1</td>\n",
       "      <td>0</td>\n",
       "      <td>3</td>\n",
       "    </tr>\n",
       "    <tr>\n",
       "      <th>2014-04-01 04:00:00</th>\n",
       "      <td>47</td>\n",
       "      <td>1</td>\n",
       "      <td>0</td>\n",
       "      <td>4</td>\n",
       "    </tr>\n",
       "  </tbody>\n",
       "</table>\n",
       "</div>"
      ],
      "text/plain": [
       "                     Neighborhood  Weekday  Is_weekend  Hour_of_day\n",
       "Date/Time                                                          \n",
       "2014-04-01 00:00:00            38        1           0            0\n",
       "2014-04-01 01:00:00            26        1           0            1\n",
       "2014-04-01 02:00:00            22        1           0            2\n",
       "2014-04-01 03:00:00            41        1           0            3\n",
       "2014-04-01 04:00:00            47        1           0            4"
      ]
     },
     "execution_count": 43,
     "metadata": {},
     "output_type": "execute_result"
    }
   ],
   "source": [
    "X_train.head()"
   ]
  },
  {
   "cell_type": "markdown",
   "metadata": {},
   "source": [
    "### Missing values\n",
    "Check for missing values within the attributes."
   ]
  },
  {
   "cell_type": "code",
   "execution_count": 44,
   "metadata": {},
   "outputs": [
    {
     "name": "stdout",
     "output_type": "stream",
     "text": [
      "<class 'pandas.core.frame.DataFrame'>\n",
      "DatetimeIndex: 3672 entries, 2014-04-01 00:00:00 to 2014-08-31 23:00:00\n",
      "Freq: H\n",
      "Data columns (total 4 columns):\n",
      " #   Column        Non-Null Count  Dtype\n",
      "---  ------        --------------  -----\n",
      " 0   Neighborhood  3672 non-null   int64\n",
      " 1   Weekday       3672 non-null   int64\n",
      " 2   Is_weekend    3672 non-null   int64\n",
      " 3   Hour_of_day   3672 non-null   int64\n",
      "dtypes: int64(4)\n",
      "memory usage: 303.4 KB\n"
     ]
    }
   ],
   "source": [
    "X_train.info()"
   ]
  },
  {
   "cell_type": "markdown",
   "metadata": {},
   "source": [
    "There are no missing values for the attributes.\n",
    "\n",
    "In the case of missing values there are three possibilities to handle them:\n",
    "* delete the entries with the missing values\n",
    "* delete the hole attribute with the missing values\n",
    "* fill the missing values with the median value of that attribute\n",
    "\n",
    "Use `sklearn.impute.SimpleImputer` class for replacing missing values if necessary."
   ]
  },
  {
   "cell_type": "markdown",
   "metadata": {},
   "source": [
    "### Categorical attributes\n",
    "Although there are no categorical attributes, the attribute `Weekday` and `Hour_of_day` have to be altered because they have growing values. Thus a machine learning algorithm may interpret larger values as more important, than smaller values. We will eliminate this by converting the numbers into categories and then using one-hot-encoder on the categorical values."
   ]
  },
  {
   "cell_type": "code",
   "execution_count": 45,
   "metadata": {},
   "outputs": [
    {
     "data": {
      "text/html": [
       "<div>\n",
       "<style scoped>\n",
       "    .dataframe tbody tr th:only-of-type {\n",
       "        vertical-align: middle;\n",
       "    }\n",
       "\n",
       "    .dataframe tbody tr th {\n",
       "        vertical-align: top;\n",
       "    }\n",
       "\n",
       "    .dataframe thead th {\n",
       "        text-align: right;\n",
       "    }\n",
       "</style>\n",
       "<table border=\"1\" class=\"dataframe\">\n",
       "  <thead>\n",
       "    <tr style=\"text-align: right;\">\n",
       "      <th></th>\n",
       "      <th>Neighborhood</th>\n",
       "      <th>Is_weekend</th>\n",
       "      <th>Hour_of_day</th>\n",
       "      <th>Day_of_week</th>\n",
       "    </tr>\n",
       "    <tr>\n",
       "      <th>Date/Time</th>\n",
       "      <th></th>\n",
       "      <th></th>\n",
       "      <th></th>\n",
       "      <th></th>\n",
       "    </tr>\n",
       "  </thead>\n",
       "  <tbody>\n",
       "    <tr>\n",
       "      <th>2014-04-01 00:00:00</th>\n",
       "      <td>38</td>\n",
       "      <td>0</td>\n",
       "      <td>0</td>\n",
       "      <td>Tue</td>\n",
       "    </tr>\n",
       "    <tr>\n",
       "      <th>2014-04-01 01:00:00</th>\n",
       "      <td>26</td>\n",
       "      <td>0</td>\n",
       "      <td>1</td>\n",
       "      <td>Tue</td>\n",
       "    </tr>\n",
       "    <tr>\n",
       "      <th>2014-04-01 02:00:00</th>\n",
       "      <td>22</td>\n",
       "      <td>0</td>\n",
       "      <td>2</td>\n",
       "      <td>Tue</td>\n",
       "    </tr>\n",
       "    <tr>\n",
       "      <th>2014-04-01 03:00:00</th>\n",
       "      <td>41</td>\n",
       "      <td>0</td>\n",
       "      <td>3</td>\n",
       "      <td>Tue</td>\n",
       "    </tr>\n",
       "    <tr>\n",
       "      <th>2014-04-01 04:00:00</th>\n",
       "      <td>47</td>\n",
       "      <td>0</td>\n",
       "      <td>4</td>\n",
       "      <td>Tue</td>\n",
       "    </tr>\n",
       "    <tr>\n",
       "      <th>...</th>\n",
       "      <td>...</td>\n",
       "      <td>...</td>\n",
       "      <td>...</td>\n",
       "      <td>...</td>\n",
       "    </tr>\n",
       "    <tr>\n",
       "      <th>2014-08-31 19:00:00</th>\n",
       "      <td>105</td>\n",
       "      <td>1</td>\n",
       "      <td>19</td>\n",
       "      <td>Sun</td>\n",
       "    </tr>\n",
       "    <tr>\n",
       "      <th>2014-08-31 20:00:00</th>\n",
       "      <td>112</td>\n",
       "      <td>1</td>\n",
       "      <td>20</td>\n",
       "      <td>Sun</td>\n",
       "    </tr>\n",
       "    <tr>\n",
       "      <th>2014-08-31 21:00:00</th>\n",
       "      <td>100</td>\n",
       "      <td>1</td>\n",
       "      <td>21</td>\n",
       "      <td>Sun</td>\n",
       "    </tr>\n",
       "    <tr>\n",
       "      <th>2014-08-31 22:00:00</th>\n",
       "      <td>95</td>\n",
       "      <td>1</td>\n",
       "      <td>22</td>\n",
       "      <td>Sun</td>\n",
       "    </tr>\n",
       "    <tr>\n",
       "      <th>2014-08-31 23:00:00</th>\n",
       "      <td>92</td>\n",
       "      <td>1</td>\n",
       "      <td>23</td>\n",
       "      <td>Sun</td>\n",
       "    </tr>\n",
       "  </tbody>\n",
       "</table>\n",
       "<p>3672 rows × 4 columns</p>\n",
       "</div>"
      ],
      "text/plain": [
       "                     Neighborhood  Is_weekend  Hour_of_day Day_of_week\n",
       "Date/Time                                                             \n",
       "2014-04-01 00:00:00            38           0            0         Tue\n",
       "2014-04-01 01:00:00            26           0            1         Tue\n",
       "2014-04-01 02:00:00            22           0            2         Tue\n",
       "2014-04-01 03:00:00            41           0            3         Tue\n",
       "2014-04-01 04:00:00            47           0            4         Tue\n",
       "...                           ...         ...          ...         ...\n",
       "2014-08-31 19:00:00           105           1           19         Sun\n",
       "2014-08-31 20:00:00           112           1           20         Sun\n",
       "2014-08-31 21:00:00           100           1           21         Sun\n",
       "2014-08-31 22:00:00            95           1           22         Sun\n",
       "2014-08-31 23:00:00            92           1           23         Sun\n",
       "\n",
       "[3672 rows x 4 columns]"
      ]
     },
     "execution_count": 45,
     "metadata": {},
     "output_type": "execute_result"
    }
   ],
   "source": [
    "map_dict_weekday = {0: \"Mon\", 1: \"Tue\", 2: \"Wen\", 3: \"Thu\", 4: \"Fri\", 5: \"Sat\", 6: \"Sun\"}\n",
    "X_train['Day_of_week'] = X_train['Weekday'].map(map_dict_weekday)\n",
    "X_train.drop(labels=['Weekday'], axis=1, inplace=True)\n",
    "X_train"
   ]
  },
  {
   "cell_type": "code",
   "execution_count": 46,
   "metadata": {},
   "outputs": [
    {
     "data": {
      "text/html": [
       "<div>\n",
       "<style scoped>\n",
       "    .dataframe tbody tr th:only-of-type {\n",
       "        vertical-align: middle;\n",
       "    }\n",
       "\n",
       "    .dataframe tbody tr th {\n",
       "        vertical-align: top;\n",
       "    }\n",
       "\n",
       "    .dataframe thead th {\n",
       "        text-align: right;\n",
       "    }\n",
       "</style>\n",
       "<table border=\"1\" class=\"dataframe\">\n",
       "  <thead>\n",
       "    <tr style=\"text-align: right;\">\n",
       "      <th></th>\n",
       "      <th>Neighborhood</th>\n",
       "      <th>Is_weekend</th>\n",
       "      <th>Day_of_week</th>\n",
       "      <th>Hours</th>\n",
       "    </tr>\n",
       "    <tr>\n",
       "      <th>Date/Time</th>\n",
       "      <th></th>\n",
       "      <th></th>\n",
       "      <th></th>\n",
       "      <th></th>\n",
       "    </tr>\n",
       "  </thead>\n",
       "  <tbody>\n",
       "    <tr>\n",
       "      <th>2014-04-01 00:00:00</th>\n",
       "      <td>38</td>\n",
       "      <td>0</td>\n",
       "      <td>Tue</td>\n",
       "      <td>H_1</td>\n",
       "    </tr>\n",
       "    <tr>\n",
       "      <th>2014-04-01 01:00:00</th>\n",
       "      <td>26</td>\n",
       "      <td>0</td>\n",
       "      <td>Tue</td>\n",
       "      <td>H_2</td>\n",
       "    </tr>\n",
       "    <tr>\n",
       "      <th>2014-04-01 02:00:00</th>\n",
       "      <td>22</td>\n",
       "      <td>0</td>\n",
       "      <td>Tue</td>\n",
       "      <td>H_3</td>\n",
       "    </tr>\n",
       "    <tr>\n",
       "      <th>2014-04-01 03:00:00</th>\n",
       "      <td>41</td>\n",
       "      <td>0</td>\n",
       "      <td>Tue</td>\n",
       "      <td>H_4</td>\n",
       "    </tr>\n",
       "    <tr>\n",
       "      <th>2014-04-01 04:00:00</th>\n",
       "      <td>47</td>\n",
       "      <td>0</td>\n",
       "      <td>Tue</td>\n",
       "      <td>H_5</td>\n",
       "    </tr>\n",
       "    <tr>\n",
       "      <th>...</th>\n",
       "      <td>...</td>\n",
       "      <td>...</td>\n",
       "      <td>...</td>\n",
       "      <td>...</td>\n",
       "    </tr>\n",
       "    <tr>\n",
       "      <th>2014-08-31 19:00:00</th>\n",
       "      <td>105</td>\n",
       "      <td>1</td>\n",
       "      <td>Sun</td>\n",
       "      <td>H_20</td>\n",
       "    </tr>\n",
       "    <tr>\n",
       "      <th>2014-08-31 20:00:00</th>\n",
       "      <td>112</td>\n",
       "      <td>1</td>\n",
       "      <td>Sun</td>\n",
       "      <td>H_21</td>\n",
       "    </tr>\n",
       "    <tr>\n",
       "      <th>2014-08-31 21:00:00</th>\n",
       "      <td>100</td>\n",
       "      <td>1</td>\n",
       "      <td>Sun</td>\n",
       "      <td>H_22</td>\n",
       "    </tr>\n",
       "    <tr>\n",
       "      <th>2014-08-31 22:00:00</th>\n",
       "      <td>95</td>\n",
       "      <td>1</td>\n",
       "      <td>Sun</td>\n",
       "      <td>H_23</td>\n",
       "    </tr>\n",
       "    <tr>\n",
       "      <th>2014-08-31 23:00:00</th>\n",
       "      <td>92</td>\n",
       "      <td>1</td>\n",
       "      <td>Sun</td>\n",
       "      <td>H_24</td>\n",
       "    </tr>\n",
       "  </tbody>\n",
       "</table>\n",
       "<p>3672 rows × 4 columns</p>\n",
       "</div>"
      ],
      "text/plain": [
       "                     Neighborhood  Is_weekend Day_of_week Hours\n",
       "Date/Time                                                      \n",
       "2014-04-01 00:00:00            38           0         Tue   H_1\n",
       "2014-04-01 01:00:00            26           0         Tue   H_2\n",
       "2014-04-01 02:00:00            22           0         Tue   H_3\n",
       "2014-04-01 03:00:00            41           0         Tue   H_4\n",
       "2014-04-01 04:00:00            47           0         Tue   H_5\n",
       "...                           ...         ...         ...   ...\n",
       "2014-08-31 19:00:00           105           1         Sun  H_20\n",
       "2014-08-31 20:00:00           112           1         Sun  H_21\n",
       "2014-08-31 21:00:00           100           1         Sun  H_22\n",
       "2014-08-31 22:00:00            95           1         Sun  H_23\n",
       "2014-08-31 23:00:00            92           1         Sun  H_24\n",
       "\n",
       "[3672 rows x 4 columns]"
      ]
     },
     "execution_count": 46,
     "metadata": {},
     "output_type": "execute_result"
    }
   ],
   "source": [
    "map_dict_hour = {0: \"H_1\", 1: \"H_2\", 2: \"H_3\", 3: \"H_4\", 4: \"H_5\", 5: \"H_6\", 6: \"H_7\", 7: \"H_8\",\n",
    "                8: \"H_9\", 9: \"H_10\", 10: \"H_11\", 11: \"H_12\", 12: \"H_13\", 13: \"H_14\", 14: \"H_15\", 15: \"H_16\",\n",
    "                16: \"H_17\", 17: \"H_18\", 18: \"H_19\", 19: \"H_20\", 20: \"H_21\", 21: \"H_22\", 22: \"H_23\", 23: \"H_24\"}\n",
    "                \n",
    "X_train['Hours'] = X_train['Hour_of_day'].map(map_dict_hour)\n",
    "X_train.drop(labels=['Hour_of_day'], axis=1, inplace=True)\n",
    "X_train"
   ]
  },
  {
   "cell_type": "markdown",
   "metadata": {},
   "source": [
    "Use the parameters `Is_weekend`, `Day_of_week` and `Hours` for training."
   ]
  },
  {
   "cell_type": "code",
   "execution_count": 47,
   "metadata": {},
   "outputs": [],
   "source": [
    "X_train_prep = X_train[['Is_weekend', 'Day_of_week', 'Hours']].copy()"
   ]
  },
  {
   "cell_type": "code",
   "execution_count": 48,
   "metadata": {},
   "outputs": [
    {
     "data": {
      "text/html": [
       "<div>\n",
       "<style scoped>\n",
       "    .dataframe tbody tr th:only-of-type {\n",
       "        vertical-align: middle;\n",
       "    }\n",
       "\n",
       "    .dataframe tbody tr th {\n",
       "        vertical-align: top;\n",
       "    }\n",
       "\n",
       "    .dataframe thead th {\n",
       "        text-align: right;\n",
       "    }\n",
       "</style>\n",
       "<table border=\"1\" class=\"dataframe\">\n",
       "  <thead>\n",
       "    <tr style=\"text-align: right;\">\n",
       "      <th></th>\n",
       "      <th>Is_weekend</th>\n",
       "      <th>Day_of_week</th>\n",
       "      <th>Hours</th>\n",
       "    </tr>\n",
       "  </thead>\n",
       "  <tbody>\n",
       "    <tr>\n",
       "      <th>0</th>\n",
       "      <td>0</td>\n",
       "      <td>Tue</td>\n",
       "      <td>H_1</td>\n",
       "    </tr>\n",
       "    <tr>\n",
       "      <th>1</th>\n",
       "      <td>0</td>\n",
       "      <td>Tue</td>\n",
       "      <td>H_2</td>\n",
       "    </tr>\n",
       "    <tr>\n",
       "      <th>2</th>\n",
       "      <td>0</td>\n",
       "      <td>Tue</td>\n",
       "      <td>H_3</td>\n",
       "    </tr>\n",
       "    <tr>\n",
       "      <th>3</th>\n",
       "      <td>0</td>\n",
       "      <td>Tue</td>\n",
       "      <td>H_4</td>\n",
       "    </tr>\n",
       "    <tr>\n",
       "      <th>4</th>\n",
       "      <td>0</td>\n",
       "      <td>Tue</td>\n",
       "      <td>H_5</td>\n",
       "    </tr>\n",
       "    <tr>\n",
       "      <th>...</th>\n",
       "      <td>...</td>\n",
       "      <td>...</td>\n",
       "      <td>...</td>\n",
       "    </tr>\n",
       "    <tr>\n",
       "      <th>3667</th>\n",
       "      <td>1</td>\n",
       "      <td>Sun</td>\n",
       "      <td>H_20</td>\n",
       "    </tr>\n",
       "    <tr>\n",
       "      <th>3668</th>\n",
       "      <td>1</td>\n",
       "      <td>Sun</td>\n",
       "      <td>H_21</td>\n",
       "    </tr>\n",
       "    <tr>\n",
       "      <th>3669</th>\n",
       "      <td>1</td>\n",
       "      <td>Sun</td>\n",
       "      <td>H_22</td>\n",
       "    </tr>\n",
       "    <tr>\n",
       "      <th>3670</th>\n",
       "      <td>1</td>\n",
       "      <td>Sun</td>\n",
       "      <td>H_23</td>\n",
       "    </tr>\n",
       "    <tr>\n",
       "      <th>3671</th>\n",
       "      <td>1</td>\n",
       "      <td>Sun</td>\n",
       "      <td>H_24</td>\n",
       "    </tr>\n",
       "  </tbody>\n",
       "</table>\n",
       "<p>3672 rows × 3 columns</p>\n",
       "</div>"
      ],
      "text/plain": [
       "      Is_weekend Day_of_week Hours\n",
       "0              0         Tue   H_1\n",
       "1              0         Tue   H_2\n",
       "2              0         Tue   H_3\n",
       "3              0         Tue   H_4\n",
       "4              0         Tue   H_5\n",
       "...          ...         ...   ...\n",
       "3667           1         Sun  H_20\n",
       "3668           1         Sun  H_21\n",
       "3669           1         Sun  H_22\n",
       "3670           1         Sun  H_23\n",
       "3671           1         Sun  H_24\n",
       "\n",
       "[3672 rows x 3 columns]"
      ]
     },
     "execution_count": 48,
     "metadata": {},
     "output_type": "execute_result"
    }
   ],
   "source": [
    "X_train_prep.reset_index(drop=True)"
   ]
  },
  {
   "cell_type": "markdown",
   "metadata": {},
   "source": [
    "#### One-Hot-Encoder\n",
    "Create a binary attribute for each \"value\" within the categorical attribute using the `OneHotEncoder`. Transform the categorical values of the attribute `Day_of_week` and `Hours` into binary values (0 or 1). The result is a matrix with `n` columns representing the `n` different categorical values. "
   ]
  },
  {
   "cell_type": "code",
   "execution_count": 49,
   "metadata": {},
   "outputs": [],
   "source": [
    "from sklearn.preprocessing import OneHotEncoder\n",
    "\n",
    "one_hot_encoder = OneHotEncoder(sparse=False)"
   ]
  },
  {
   "cell_type": "markdown",
   "metadata": {},
   "source": [
    "One-hot-encoding for the `Day_of_week` attribute."
   ]
  },
  {
   "cell_type": "code",
   "execution_count": 50,
   "metadata": {},
   "outputs": [],
   "source": [
    "X_train_cat_days = X_train_prep[['Day_of_week']]"
   ]
  },
  {
   "cell_type": "code",
   "execution_count": 51,
   "metadata": {},
   "outputs": [
    {
     "data": {
      "text/plain": [
       "array([[0., 0., 0., ..., 0., 1., 0.],\n",
       "       [0., 0., 0., ..., 0., 1., 0.],\n",
       "       [0., 0., 0., ..., 0., 1., 0.],\n",
       "       ...,\n",
       "       [0., 0., 0., ..., 0., 0., 0.],\n",
       "       [0., 0., 0., ..., 0., 0., 0.],\n",
       "       [0., 0., 0., ..., 0., 0., 0.]])"
      ]
     },
     "execution_count": 51,
     "metadata": {},
     "output_type": "execute_result"
    }
   ],
   "source": [
    "X_train_cat_days_1hot = one_hot_encoder.fit_transform(X_train_cat_days)\n",
    "X_train_cat_days_1hot"
   ]
  },
  {
   "cell_type": "markdown",
   "metadata": {},
   "source": [
    "One-hot-encoding for the `Hours` attribute."
   ]
  },
  {
   "cell_type": "code",
   "execution_count": 52,
   "metadata": {},
   "outputs": [],
   "source": [
    "X_train_cat_hours = X_train_prep[['Hours']]"
   ]
  },
  {
   "cell_type": "code",
   "execution_count": 53,
   "metadata": {},
   "outputs": [
    {
     "data": {
      "text/plain": [
       "array([[1., 0., 0., ..., 0., 0., 0.],\n",
       "       [0., 0., 0., ..., 0., 0., 0.],\n",
       "       [0., 0., 0., ..., 0., 0., 0.],\n",
       "       ...,\n",
       "       [0., 0., 0., ..., 0., 0., 0.],\n",
       "       [0., 0., 0., ..., 0., 0., 0.],\n",
       "       [0., 0., 0., ..., 0., 0., 0.]])"
      ]
     },
     "execution_count": 53,
     "metadata": {},
     "output_type": "execute_result"
    }
   ],
   "source": [
    "X_train_cat_hours_1hot = one_hot_encoder.fit_transform(X_train_cat_hours)\n",
    "X_train_cat_hours_1hot"
   ]
  },
  {
   "cell_type": "markdown",
   "metadata": {},
   "source": [
    "Convert the `Is_weekend` attribute into an array."
   ]
  },
  {
   "cell_type": "code",
   "execution_count": 54,
   "metadata": {},
   "outputs": [
    {
     "data": {
      "text/plain": [
       "(3672, 1)"
      ]
     },
     "execution_count": 54,
     "metadata": {},
     "output_type": "execute_result"
    }
   ],
   "source": [
    "Is_weekend_array = np.expand_dims(np.asarray(X_train_prep['Is_weekend']), axis=1)\n",
    "Is_weekend_array.shape"
   ]
  },
  {
   "cell_type": "markdown",
   "metadata": {},
   "source": [
    "Concatenate the three resulting arrays to get the training input array."
   ]
  },
  {
   "cell_type": "code",
   "execution_count": 55,
   "metadata": {},
   "outputs": [
    {
     "data": {
      "text/plain": [
       "(3672, 32)"
      ]
     },
     "execution_count": 55,
     "metadata": {},
     "output_type": "execute_result"
    }
   ],
   "source": [
    "result = np.concatenate((Is_weekend_array, X_train_cat_days_1hot, X_train_cat_hours_1hot), axis=1)\n",
    "result.shape"
   ]
  },
  {
   "cell_type": "code",
   "execution_count": 56,
   "metadata": {},
   "outputs": [
    {
     "data": {
      "text/html": [
       "<div>\n",
       "<style scoped>\n",
       "    .dataframe tbody tr th:only-of-type {\n",
       "        vertical-align: middle;\n",
       "    }\n",
       "\n",
       "    .dataframe tbody tr th {\n",
       "        vertical-align: top;\n",
       "    }\n",
       "\n",
       "    .dataframe thead th {\n",
       "        text-align: right;\n",
       "    }\n",
       "</style>\n",
       "<table border=\"1\" class=\"dataframe\">\n",
       "  <thead>\n",
       "    <tr style=\"text-align: right;\">\n",
       "      <th></th>\n",
       "      <th>0</th>\n",
       "      <th>1</th>\n",
       "      <th>2</th>\n",
       "      <th>3</th>\n",
       "      <th>4</th>\n",
       "      <th>5</th>\n",
       "      <th>6</th>\n",
       "      <th>7</th>\n",
       "      <th>8</th>\n",
       "      <th>9</th>\n",
       "      <th>...</th>\n",
       "      <th>22</th>\n",
       "      <th>23</th>\n",
       "      <th>24</th>\n",
       "      <th>25</th>\n",
       "      <th>26</th>\n",
       "      <th>27</th>\n",
       "      <th>28</th>\n",
       "      <th>29</th>\n",
       "      <th>30</th>\n",
       "      <th>31</th>\n",
       "    </tr>\n",
       "  </thead>\n",
       "  <tbody>\n",
       "    <tr>\n",
       "      <th>0</th>\n",
       "      <td>0.0</td>\n",
       "      <td>0.0</td>\n",
       "      <td>0.0</td>\n",
       "      <td>0.0</td>\n",
       "      <td>0.0</td>\n",
       "      <td>0.0</td>\n",
       "      <td>1.0</td>\n",
       "      <td>0.0</td>\n",
       "      <td>1.0</td>\n",
       "      <td>0.0</td>\n",
       "      <td>...</td>\n",
       "      <td>0.0</td>\n",
       "      <td>0.0</td>\n",
       "      <td>0.0</td>\n",
       "      <td>0.0</td>\n",
       "      <td>0.0</td>\n",
       "      <td>0.0</td>\n",
       "      <td>0.0</td>\n",
       "      <td>0.0</td>\n",
       "      <td>0.0</td>\n",
       "      <td>0.0</td>\n",
       "    </tr>\n",
       "    <tr>\n",
       "      <th>1</th>\n",
       "      <td>0.0</td>\n",
       "      <td>0.0</td>\n",
       "      <td>0.0</td>\n",
       "      <td>0.0</td>\n",
       "      <td>0.0</td>\n",
       "      <td>0.0</td>\n",
       "      <td>1.0</td>\n",
       "      <td>0.0</td>\n",
       "      <td>0.0</td>\n",
       "      <td>0.0</td>\n",
       "      <td>...</td>\n",
       "      <td>0.0</td>\n",
       "      <td>0.0</td>\n",
       "      <td>0.0</td>\n",
       "      <td>0.0</td>\n",
       "      <td>0.0</td>\n",
       "      <td>0.0</td>\n",
       "      <td>0.0</td>\n",
       "      <td>0.0</td>\n",
       "      <td>0.0</td>\n",
       "      <td>0.0</td>\n",
       "    </tr>\n",
       "    <tr>\n",
       "      <th>2</th>\n",
       "      <td>0.0</td>\n",
       "      <td>0.0</td>\n",
       "      <td>0.0</td>\n",
       "      <td>0.0</td>\n",
       "      <td>0.0</td>\n",
       "      <td>0.0</td>\n",
       "      <td>1.0</td>\n",
       "      <td>0.0</td>\n",
       "      <td>0.0</td>\n",
       "      <td>0.0</td>\n",
       "      <td>...</td>\n",
       "      <td>0.0</td>\n",
       "      <td>0.0</td>\n",
       "      <td>0.0</td>\n",
       "      <td>1.0</td>\n",
       "      <td>0.0</td>\n",
       "      <td>0.0</td>\n",
       "      <td>0.0</td>\n",
       "      <td>0.0</td>\n",
       "      <td>0.0</td>\n",
       "      <td>0.0</td>\n",
       "    </tr>\n",
       "    <tr>\n",
       "      <th>3</th>\n",
       "      <td>0.0</td>\n",
       "      <td>0.0</td>\n",
       "      <td>0.0</td>\n",
       "      <td>0.0</td>\n",
       "      <td>0.0</td>\n",
       "      <td>0.0</td>\n",
       "      <td>1.0</td>\n",
       "      <td>0.0</td>\n",
       "      <td>0.0</td>\n",
       "      <td>0.0</td>\n",
       "      <td>...</td>\n",
       "      <td>0.0</td>\n",
       "      <td>0.0</td>\n",
       "      <td>0.0</td>\n",
       "      <td>0.0</td>\n",
       "      <td>1.0</td>\n",
       "      <td>0.0</td>\n",
       "      <td>0.0</td>\n",
       "      <td>0.0</td>\n",
       "      <td>0.0</td>\n",
       "      <td>0.0</td>\n",
       "    </tr>\n",
       "    <tr>\n",
       "      <th>4</th>\n",
       "      <td>0.0</td>\n",
       "      <td>0.0</td>\n",
       "      <td>0.0</td>\n",
       "      <td>0.0</td>\n",
       "      <td>0.0</td>\n",
       "      <td>0.0</td>\n",
       "      <td>1.0</td>\n",
       "      <td>0.0</td>\n",
       "      <td>0.0</td>\n",
       "      <td>0.0</td>\n",
       "      <td>...</td>\n",
       "      <td>0.0</td>\n",
       "      <td>0.0</td>\n",
       "      <td>0.0</td>\n",
       "      <td>0.0</td>\n",
       "      <td>0.0</td>\n",
       "      <td>1.0</td>\n",
       "      <td>0.0</td>\n",
       "      <td>0.0</td>\n",
       "      <td>0.0</td>\n",
       "      <td>0.0</td>\n",
       "    </tr>\n",
       "    <tr>\n",
       "      <th>...</th>\n",
       "      <td>...</td>\n",
       "      <td>...</td>\n",
       "      <td>...</td>\n",
       "      <td>...</td>\n",
       "      <td>...</td>\n",
       "      <td>...</td>\n",
       "      <td>...</td>\n",
       "      <td>...</td>\n",
       "      <td>...</td>\n",
       "      <td>...</td>\n",
       "      <td>...</td>\n",
       "      <td>...</td>\n",
       "      <td>...</td>\n",
       "      <td>...</td>\n",
       "      <td>...</td>\n",
       "      <td>...</td>\n",
       "      <td>...</td>\n",
       "      <td>...</td>\n",
       "      <td>...</td>\n",
       "      <td>...</td>\n",
       "      <td>...</td>\n",
       "    </tr>\n",
       "    <tr>\n",
       "      <th>3667</th>\n",
       "      <td>1.0</td>\n",
       "      <td>0.0</td>\n",
       "      <td>0.0</td>\n",
       "      <td>0.0</td>\n",
       "      <td>1.0</td>\n",
       "      <td>0.0</td>\n",
       "      <td>0.0</td>\n",
       "      <td>0.0</td>\n",
       "      <td>0.0</td>\n",
       "      <td>0.0</td>\n",
       "      <td>...</td>\n",
       "      <td>0.0</td>\n",
       "      <td>0.0</td>\n",
       "      <td>0.0</td>\n",
       "      <td>0.0</td>\n",
       "      <td>0.0</td>\n",
       "      <td>0.0</td>\n",
       "      <td>0.0</td>\n",
       "      <td>0.0</td>\n",
       "      <td>0.0</td>\n",
       "      <td>0.0</td>\n",
       "    </tr>\n",
       "    <tr>\n",
       "      <th>3668</th>\n",
       "      <td>1.0</td>\n",
       "      <td>0.0</td>\n",
       "      <td>0.0</td>\n",
       "      <td>0.0</td>\n",
       "      <td>1.0</td>\n",
       "      <td>0.0</td>\n",
       "      <td>0.0</td>\n",
       "      <td>0.0</td>\n",
       "      <td>0.0</td>\n",
       "      <td>0.0</td>\n",
       "      <td>...</td>\n",
       "      <td>0.0</td>\n",
       "      <td>0.0</td>\n",
       "      <td>0.0</td>\n",
       "      <td>0.0</td>\n",
       "      <td>0.0</td>\n",
       "      <td>0.0</td>\n",
       "      <td>0.0</td>\n",
       "      <td>0.0</td>\n",
       "      <td>0.0</td>\n",
       "      <td>0.0</td>\n",
       "    </tr>\n",
       "    <tr>\n",
       "      <th>3669</th>\n",
       "      <td>1.0</td>\n",
       "      <td>0.0</td>\n",
       "      <td>0.0</td>\n",
       "      <td>0.0</td>\n",
       "      <td>1.0</td>\n",
       "      <td>0.0</td>\n",
       "      <td>0.0</td>\n",
       "      <td>0.0</td>\n",
       "      <td>0.0</td>\n",
       "      <td>0.0</td>\n",
       "      <td>...</td>\n",
       "      <td>1.0</td>\n",
       "      <td>0.0</td>\n",
       "      <td>0.0</td>\n",
       "      <td>0.0</td>\n",
       "      <td>0.0</td>\n",
       "      <td>0.0</td>\n",
       "      <td>0.0</td>\n",
       "      <td>0.0</td>\n",
       "      <td>0.0</td>\n",
       "      <td>0.0</td>\n",
       "    </tr>\n",
       "    <tr>\n",
       "      <th>3670</th>\n",
       "      <td>1.0</td>\n",
       "      <td>0.0</td>\n",
       "      <td>0.0</td>\n",
       "      <td>0.0</td>\n",
       "      <td>1.0</td>\n",
       "      <td>0.0</td>\n",
       "      <td>0.0</td>\n",
       "      <td>0.0</td>\n",
       "      <td>0.0</td>\n",
       "      <td>0.0</td>\n",
       "      <td>...</td>\n",
       "      <td>0.0</td>\n",
       "      <td>1.0</td>\n",
       "      <td>0.0</td>\n",
       "      <td>0.0</td>\n",
       "      <td>0.0</td>\n",
       "      <td>0.0</td>\n",
       "      <td>0.0</td>\n",
       "      <td>0.0</td>\n",
       "      <td>0.0</td>\n",
       "      <td>0.0</td>\n",
       "    </tr>\n",
       "    <tr>\n",
       "      <th>3671</th>\n",
       "      <td>1.0</td>\n",
       "      <td>0.0</td>\n",
       "      <td>0.0</td>\n",
       "      <td>0.0</td>\n",
       "      <td>1.0</td>\n",
       "      <td>0.0</td>\n",
       "      <td>0.0</td>\n",
       "      <td>0.0</td>\n",
       "      <td>0.0</td>\n",
       "      <td>0.0</td>\n",
       "      <td>...</td>\n",
       "      <td>0.0</td>\n",
       "      <td>0.0</td>\n",
       "      <td>1.0</td>\n",
       "      <td>0.0</td>\n",
       "      <td>0.0</td>\n",
       "      <td>0.0</td>\n",
       "      <td>0.0</td>\n",
       "      <td>0.0</td>\n",
       "      <td>0.0</td>\n",
       "      <td>0.0</td>\n",
       "    </tr>\n",
       "  </tbody>\n",
       "</table>\n",
       "<p>3672 rows × 32 columns</p>\n",
       "</div>"
      ],
      "text/plain": [
       "       0    1    2    3    4    5    6    7    8    9   ...   22   23   24  \\\n",
       "0     0.0  0.0  0.0  0.0  0.0  0.0  1.0  0.0  1.0  0.0  ...  0.0  0.0  0.0   \n",
       "1     0.0  0.0  0.0  0.0  0.0  0.0  1.0  0.0  0.0  0.0  ...  0.0  0.0  0.0   \n",
       "2     0.0  0.0  0.0  0.0  0.0  0.0  1.0  0.0  0.0  0.0  ...  0.0  0.0  0.0   \n",
       "3     0.0  0.0  0.0  0.0  0.0  0.0  1.0  0.0  0.0  0.0  ...  0.0  0.0  0.0   \n",
       "4     0.0  0.0  0.0  0.0  0.0  0.0  1.0  0.0  0.0  0.0  ...  0.0  0.0  0.0   \n",
       "...   ...  ...  ...  ...  ...  ...  ...  ...  ...  ...  ...  ...  ...  ...   \n",
       "3667  1.0  0.0  0.0  0.0  1.0  0.0  0.0  0.0  0.0  0.0  ...  0.0  0.0  0.0   \n",
       "3668  1.0  0.0  0.0  0.0  1.0  0.0  0.0  0.0  0.0  0.0  ...  0.0  0.0  0.0   \n",
       "3669  1.0  0.0  0.0  0.0  1.0  0.0  0.0  0.0  0.0  0.0  ...  1.0  0.0  0.0   \n",
       "3670  1.0  0.0  0.0  0.0  1.0  0.0  0.0  0.0  0.0  0.0  ...  0.0  1.0  0.0   \n",
       "3671  1.0  0.0  0.0  0.0  1.0  0.0  0.0  0.0  0.0  0.0  ...  0.0  0.0  1.0   \n",
       "\n",
       "       25   26   27   28   29   30   31  \n",
       "0     0.0  0.0  0.0  0.0  0.0  0.0  0.0  \n",
       "1     0.0  0.0  0.0  0.0  0.0  0.0  0.0  \n",
       "2     1.0  0.0  0.0  0.0  0.0  0.0  0.0  \n",
       "3     0.0  1.0  0.0  0.0  0.0  0.0  0.0  \n",
       "4     0.0  0.0  1.0  0.0  0.0  0.0  0.0  \n",
       "...   ...  ...  ...  ...  ...  ...  ...  \n",
       "3667  0.0  0.0  0.0  0.0  0.0  0.0  0.0  \n",
       "3668  0.0  0.0  0.0  0.0  0.0  0.0  0.0  \n",
       "3669  0.0  0.0  0.0  0.0  0.0  0.0  0.0  \n",
       "3670  0.0  0.0  0.0  0.0  0.0  0.0  0.0  \n",
       "3671  0.0  0.0  0.0  0.0  0.0  0.0  0.0  \n",
       "\n",
       "[3672 rows x 32 columns]"
      ]
     },
     "execution_count": 56,
     "metadata": {},
     "output_type": "execute_result"
    }
   ],
   "source": [
    "X_train_prep = pd.DataFrame(result)\n",
    "X_train_prep"
   ]
  },
  {
   "cell_type": "code",
   "execution_count": 57,
   "metadata": {},
   "outputs": [
    {
     "data": {
      "text/plain": [
       "(3672, 32)"
      ]
     },
     "execution_count": 57,
     "metadata": {},
     "output_type": "execute_result"
    }
   ],
   "source": [
    "X_train_prep.shape"
   ]
  },
  {
   "cell_type": "markdown",
   "metadata": {},
   "source": [
    "**Now the training data has been prepared for machine learning!**\n",
    "\n",
    "* The data has been fetched and loaded.\n",
    "* The data has been analyzed.\n",
    "* The data has been split into a training and a testing set. A stratified split has been used for this purpose. \n",
    "* The data has been visualized to get further insights into it.\n",
    "* The correlation between the numerical attributed has been performed.\n",
    "* Additional attributes have been added.\n",
    "* Separate the \"label\" from the training data.\n",
    "* Check for and handle missing (numerical) values within the attributes.\n",
    "* Preprocess categorical attributes by one-hot-encoder.\n",
    "\n",
    "**Results of the preprocessing steps:**\n",
    "* `X_train_prep`: the prepared training data\n",
    "* `y_train`:    the labeled data for training"
   ]
  },
  {
   "cell_type": "markdown",
   "metadata": {},
   "source": [
    "## Select and train a model"
   ]
  },
  {
   "cell_type": "markdown",
   "metadata": {},
   "source": [
    "**Linear regression model:** [`LinearRegression`](https://scikit-learn.org/stable/modules/generated/sklearn.linear_model.LinearRegression.html#sklearn.linear_model.LinearRegression)"
   ]
  },
  {
   "cell_type": "code",
   "execution_count": 58,
   "metadata": {},
   "outputs": [
    {
     "data": {
      "text/plain": [
       "0.6812547575653884"
      ]
     },
     "execution_count": 58,
     "metadata": {},
     "output_type": "execute_result"
    }
   ],
   "source": [
    "from sklearn.linear_model import LinearRegression\n",
    "\n",
    "linReg = LinearRegression().fit(X_train_prep, y_train)\n",
    "linReg.score(X_train_prep, y_train)"
   ]
  },
  {
   "cell_type": "markdown",
   "metadata": {},
   "source": [
    "**Random forest model:** [`RandomForestRegressor`](https://scikit-learn.org/stable/modules/generated/sklearn.ensemble.RandomForestRegressor.html#sklearn.ensemble.RandomForestRegressor)"
   ]
  },
  {
   "cell_type": "code",
   "execution_count": 59,
   "metadata": {},
   "outputs": [
    {
     "data": {
      "text/plain": [
       "RandomForestRegressor(n_jobs=-2, random_state=42)"
      ]
     },
     "execution_count": 59,
     "metadata": {},
     "output_type": "execute_result"
    }
   ],
   "source": [
    "from sklearn.ensemble import RandomForestRegressor\n",
    "\n",
    "randForestReg = RandomForestRegressor(n_estimators = 100, random_state = 42, n_jobs=n_cpus)\n",
    "randForestReg.fit(X_train_prep, y_train)"
   ]
  },
  {
   "cell_type": "code",
   "execution_count": 60,
   "metadata": {},
   "outputs": [
    {
     "data": {
      "text/plain": [
       "0.8258485731619142"
      ]
     },
     "execution_count": 60,
     "metadata": {},
     "output_type": "execute_result"
    }
   ],
   "source": [
    "randForestReg.score(X_train_prep, y_train)"
   ]
  },
  {
   "cell_type": "markdown",
   "metadata": {},
   "source": [
    "**Support vector machine model:**[`SVR`](https://scikit-learn.org/stable/modules/generated/sklearn.svm.SVR.html#sklearn.svm.SVR)"
   ]
  },
  {
   "cell_type": "code",
   "execution_count": 61,
   "metadata": {},
   "outputs": [
    {
     "data": {
      "text/plain": [
       "SVR(kernel='linear')"
      ]
     },
     "execution_count": 61,
     "metadata": {},
     "output_type": "execute_result"
    }
   ],
   "source": [
    "from sklearn.svm import SVR\n",
    "\n",
    "svmReg = SVR(kernel='linear')\n",
    "svmReg.fit(X_train_prep, y_train)"
   ]
  },
  {
   "cell_type": "code",
   "execution_count": 62,
   "metadata": {},
   "outputs": [
    {
     "data": {
      "text/plain": [
       "0.2779418455977839"
      ]
     },
     "execution_count": 62,
     "metadata": {},
     "output_type": "execute_result"
    }
   ],
   "source": [
    "svmReg.score(X_train_prep, y_train)"
   ]
  },
  {
   "cell_type": "code",
   "execution_count": null,
   "metadata": {},
   "outputs": [],
   "source": []
  }
 ],
 "metadata": {
  "kernelspec": {
   "display_name": "Python 3",
   "language": "python",
   "name": "python3"
  },
  "language_info": {
   "codemirror_mode": {
    "name": "ipython",
    "version": 3
   },
   "file_extension": ".py",
   "mimetype": "text/x-python",
   "name": "python",
   "nbconvert_exporter": "python",
   "pygments_lexer": "ipython3",
   "version": "3.6.12"
  }
 },
 "nbformat": 4,
 "nbformat_minor": 4
}
